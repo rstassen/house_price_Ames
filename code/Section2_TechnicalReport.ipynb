{
 "cells": [
  {
   "cell_type": "markdown",
   "id": "90e9c0d9",
   "metadata": {},
   "source": [
    "# Section 2\n",
    "# Technical Report"
   ]
  },
  {
   "cell_type": "markdown",
   "id": "e25317df",
   "metadata": {},
   "source": [
    "## Part 1\n",
    "## Introduction\n",
    "### Problem Statement"
   ]
  },
  {
   "cell_type": "markdown",
   "id": "618b3eaf",
   "metadata": {},
   "source": [
    "What is the sale value of a house? In capitalist societies there is no exogenous price setter, but rather the price of a house is simply whatever someone is willing to pair for it. This poses a significant challenge for both buyers and sellers in the housing market. House appraisal is a valuable service, and accurate assessment of a house's value provides leverage in negotations, and a competitve advantage for investors. However, accurately evaluating a house's value is difficult undertaking, and so real estate appraisal has historically been an expert domain.\n",
    "\n",
    "In the last several decades, the rapid expansion of digitization and the consequent arrival of 'Big Data' have open new possibilities for housing appraisal. Machine learning can be a powerful tool in this, but there remains difficultly in calibrating high-accuracy predictive models.\n",
    "\n",
    "This paper attempts to design an accurate model predicting house price using linear regression, and as a point of reference a K Nearest Neighbour model is also implemented. It is hoped that in designing these models I can gain insight into the optimal model design for predicting the final sale price of houses."
   ]
  },
  {
   "cell_type": "markdown",
   "id": "a1f1b417",
   "metadata": {},
   "source": [
    "### Data\n",
    "This report uses the Ames housing dataset. The full dictionary is available here: http://jse.amstat.org/v19n3/decock/DataDocumentation.txt\n",
    "\n",
    "The variable names are preserved throughout this report, although they are reformatted to remove uppercase, and spaces are replaced with underscores for consistency and ease of use. In addition, there is some feature engineering, for example, each house's construction year and sale year are used to compute the home's age at time of sale, and this is used as a continuous variable for training the models. There are also interaction terms added at several points in this report, but in all cases the features are named in a consistent manner, allowing the reader to refer back to the above data dictionary for clarification."
   ]
  },
  {
   "cell_type": "markdown",
   "id": "074924cd",
   "metadata": {},
   "source": [
    "## Part 2\n",
    "## Exploratory Data Analysis (EDA)"
   ]
  },
  {
   "cell_type": "markdown",
   "id": "e18cb0f8",
   "metadata": {},
   "source": [
    "Initial data cleaning was performed, involving the removal or imputation of missing values, as well as some simple feature reformatting; see Section 1. The section that follows takes a first look at our data and I further adjust the data based on my findings. "
   ]
  },
  {
   "cell_type": "code",
   "execution_count": 3,
   "id": "c095b710",
   "metadata": {},
   "outputs": [],
   "source": [
    "# Import Libraries\n",
    "import pandas as pd\n",
    "import numpy as np\n",
    "import matplotlib.pyplot as plt\n",
    "import seaborn as sns\n",
    "import scipy.stats as stats\n",
    "from sklearn.model_selection import train_test_split, cross_val_score\n",
    "from sklearn.linear_model import LinearRegression, Lasso, Ridge, RidgeCV, LassoCV\n",
    "from sklearn.preprocessing import StandardScaler, PolynomialFeatures\n",
    "from sklearn.neighbors import KNeighborsRegressor\n",
    "from sklearn.model_selection import GridSearchCV\n",
    "import warnings\n",
    "\n",
    "# Other settings\n",
    "%matplotlib inline\n",
    "pd.options.display.max_rows=100\n",
    "pd.options.display.max_columns=100\n",
    "warnings.filterwarnings('ignore')\n"
   ]
  },
  {
   "cell_type": "code",
   "execution_count": 4,
   "id": "36c16184",
   "metadata": {},
   "outputs": [
    {
     "data": {
      "text/html": [
       "<div>\n",
       "<style scoped>\n",
       "    .dataframe tbody tr th:only-of-type {\n",
       "        vertical-align: middle;\n",
       "    }\n",
       "\n",
       "    .dataframe tbody tr th {\n",
       "        vertical-align: top;\n",
       "    }\n",
       "\n",
       "    .dataframe thead th {\n",
       "        text-align: right;\n",
       "    }\n",
       "</style>\n",
       "<table border=\"1\" class=\"dataframe\">\n",
       "  <thead>\n",
       "    <tr style=\"text-align: right;\">\n",
       "      <th></th>\n",
       "      <th>ms_subclass</th>\n",
       "      <th>ms_zoning</th>\n",
       "      <th>lot_area</th>\n",
       "      <th>street</th>\n",
       "      <th>lot_shape</th>\n",
       "      <th>land_contour</th>\n",
       "      <th>utilities</th>\n",
       "      <th>lot_config</th>\n",
       "      <th>land_slope</th>\n",
       "      <th>neighborhood</th>\n",
       "      <th>condition_1</th>\n",
       "      <th>condition_2</th>\n",
       "      <th>bldg_type</th>\n",
       "      <th>house_style</th>\n",
       "      <th>overall_qual</th>\n",
       "      <th>overall_cond</th>\n",
       "      <th>year_built</th>\n",
       "      <th>year_remod/add</th>\n",
       "      <th>roof_style</th>\n",
       "      <th>roof_matl</th>\n",
       "      <th>exterior_1st</th>\n",
       "      <th>exterior_2nd</th>\n",
       "      <th>mas_vnr_type</th>\n",
       "      <th>mas_vnr_area</th>\n",
       "      <th>exter_qual</th>\n",
       "      <th>exter_cond</th>\n",
       "      <th>foundation</th>\n",
       "      <th>bsmtfin_type_1</th>\n",
       "      <th>total_bsmt_sf</th>\n",
       "      <th>heating</th>\n",
       "      <th>heating_qc</th>\n",
       "      <th>central_air</th>\n",
       "      <th>electrical</th>\n",
       "      <th>1st_flr_sf</th>\n",
       "      <th>2nd_flr_sf</th>\n",
       "      <th>low_qual_fin_sf</th>\n",
       "      <th>gr_liv_area</th>\n",
       "      <th>bsmt_full_bath</th>\n",
       "      <th>bsmt_half_bath</th>\n",
       "      <th>full_bath</th>\n",
       "      <th>half_bath</th>\n",
       "      <th>bedroom_abvgr</th>\n",
       "      <th>kitchen_abvgr</th>\n",
       "      <th>kitchen_qual</th>\n",
       "      <th>totrms_abvgrd</th>\n",
       "      <th>functional</th>\n",
       "      <th>fireplaces</th>\n",
       "      <th>garage_type</th>\n",
       "      <th>garage_area</th>\n",
       "      <th>garage_qual</th>\n",
       "      <th>paved_drive</th>\n",
       "      <th>wood_deck_sf</th>\n",
       "      <th>open_porch_sf</th>\n",
       "      <th>enclosed_porch</th>\n",
       "      <th>3ssn_porch</th>\n",
       "      <th>screen_porch</th>\n",
       "      <th>pool_area</th>\n",
       "      <th>misc_val</th>\n",
       "      <th>mo_sold</th>\n",
       "      <th>yr_sold</th>\n",
       "      <th>sale_type</th>\n",
       "      <th>saleprice</th>\n",
       "    </tr>\n",
       "  </thead>\n",
       "  <tbody>\n",
       "    <tr>\n",
       "      <th>0</th>\n",
       "      <td>60</td>\n",
       "      <td>RL</td>\n",
       "      <td>13517</td>\n",
       "      <td>Pave</td>\n",
       "      <td>IR1</td>\n",
       "      <td>Lvl</td>\n",
       "      <td>AllPub</td>\n",
       "      <td>CulDSac</td>\n",
       "      <td>Gtl</td>\n",
       "      <td>Sawyer</td>\n",
       "      <td>RRAe</td>\n",
       "      <td>Norm</td>\n",
       "      <td>1Fam</td>\n",
       "      <td>2Story</td>\n",
       "      <td>6</td>\n",
       "      <td>8</td>\n",
       "      <td>1976</td>\n",
       "      <td>2005</td>\n",
       "      <td>Gable</td>\n",
       "      <td>CompShg</td>\n",
       "      <td>HdBoard</td>\n",
       "      <td>Plywood</td>\n",
       "      <td>BrkFace</td>\n",
       "      <td>289.0</td>\n",
       "      <td>Gd</td>\n",
       "      <td>TA</td>\n",
       "      <td>CBlock</td>\n",
       "      <td>6</td>\n",
       "      <td>725.0</td>\n",
       "      <td>GasA</td>\n",
       "      <td>Ex</td>\n",
       "      <td>Y</td>\n",
       "      <td>SBrkr</td>\n",
       "      <td>725</td>\n",
       "      <td>754</td>\n",
       "      <td>0</td>\n",
       "      <td>1479</td>\n",
       "      <td>0.0</td>\n",
       "      <td>0.0</td>\n",
       "      <td>2</td>\n",
       "      <td>1</td>\n",
       "      <td>3</td>\n",
       "      <td>1</td>\n",
       "      <td>Gd</td>\n",
       "      <td>6</td>\n",
       "      <td>Typ</td>\n",
       "      <td>0</td>\n",
       "      <td>Attchd</td>\n",
       "      <td>475.0</td>\n",
       "      <td>3</td>\n",
       "      <td>Y</td>\n",
       "      <td>0</td>\n",
       "      <td>44</td>\n",
       "      <td>0</td>\n",
       "      <td>0</td>\n",
       "      <td>0</td>\n",
       "      <td>0</td>\n",
       "      <td>0</td>\n",
       "      <td>3</td>\n",
       "      <td>2010</td>\n",
       "      <td>WD</td>\n",
       "      <td>130500</td>\n",
       "    </tr>\n",
       "    <tr>\n",
       "      <th>1</th>\n",
       "      <td>60</td>\n",
       "      <td>RL</td>\n",
       "      <td>11492</td>\n",
       "      <td>Pave</td>\n",
       "      <td>IR1</td>\n",
       "      <td>Lvl</td>\n",
       "      <td>AllPub</td>\n",
       "      <td>CulDSac</td>\n",
       "      <td>Gtl</td>\n",
       "      <td>SawyerW</td>\n",
       "      <td>Norm</td>\n",
       "      <td>Norm</td>\n",
       "      <td>1Fam</td>\n",
       "      <td>2Story</td>\n",
       "      <td>7</td>\n",
       "      <td>5</td>\n",
       "      <td>1996</td>\n",
       "      <td>1997</td>\n",
       "      <td>Gable</td>\n",
       "      <td>CompShg</td>\n",
       "      <td>VinylSd</td>\n",
       "      <td>VinylSd</td>\n",
       "      <td>BrkFace</td>\n",
       "      <td>132.0</td>\n",
       "      <td>Gd</td>\n",
       "      <td>TA</td>\n",
       "      <td>PConc</td>\n",
       "      <td>6</td>\n",
       "      <td>913.0</td>\n",
       "      <td>GasA</td>\n",
       "      <td>Ex</td>\n",
       "      <td>Y</td>\n",
       "      <td>SBrkr</td>\n",
       "      <td>913</td>\n",
       "      <td>1209</td>\n",
       "      <td>0</td>\n",
       "      <td>2122</td>\n",
       "      <td>1.0</td>\n",
       "      <td>0.0</td>\n",
       "      <td>2</td>\n",
       "      <td>1</td>\n",
       "      <td>4</td>\n",
       "      <td>1</td>\n",
       "      <td>Gd</td>\n",
       "      <td>8</td>\n",
       "      <td>Typ</td>\n",
       "      <td>1</td>\n",
       "      <td>Attchd</td>\n",
       "      <td>559.0</td>\n",
       "      <td>3</td>\n",
       "      <td>Y</td>\n",
       "      <td>0</td>\n",
       "      <td>74</td>\n",
       "      <td>0</td>\n",
       "      <td>0</td>\n",
       "      <td>0</td>\n",
       "      <td>0</td>\n",
       "      <td>0</td>\n",
       "      <td>4</td>\n",
       "      <td>2009</td>\n",
       "      <td>WD</td>\n",
       "      <td>220000</td>\n",
       "    </tr>\n",
       "    <tr>\n",
       "      <th>2</th>\n",
       "      <td>20</td>\n",
       "      <td>RL</td>\n",
       "      <td>7922</td>\n",
       "      <td>Pave</td>\n",
       "      <td>Reg</td>\n",
       "      <td>Lvl</td>\n",
       "      <td>AllPub</td>\n",
       "      <td>Inside</td>\n",
       "      <td>Gtl</td>\n",
       "      <td>NAmes</td>\n",
       "      <td>Norm</td>\n",
       "      <td>Norm</td>\n",
       "      <td>1Fam</td>\n",
       "      <td>1Story</td>\n",
       "      <td>5</td>\n",
       "      <td>7</td>\n",
       "      <td>1953</td>\n",
       "      <td>2007</td>\n",
       "      <td>Gable</td>\n",
       "      <td>CompShg</td>\n",
       "      <td>VinylSd</td>\n",
       "      <td>VinylSd</td>\n",
       "      <td>None</td>\n",
       "      <td>0.0</td>\n",
       "      <td>TA</td>\n",
       "      <td>Gd</td>\n",
       "      <td>CBlock</td>\n",
       "      <td>6</td>\n",
       "      <td>1057.0</td>\n",
       "      <td>GasA</td>\n",
       "      <td>TA</td>\n",
       "      <td>Y</td>\n",
       "      <td>SBrkr</td>\n",
       "      <td>1057</td>\n",
       "      <td>0</td>\n",
       "      <td>0</td>\n",
       "      <td>1057</td>\n",
       "      <td>1.0</td>\n",
       "      <td>0.0</td>\n",
       "      <td>1</td>\n",
       "      <td>0</td>\n",
       "      <td>3</td>\n",
       "      <td>1</td>\n",
       "      <td>Gd</td>\n",
       "      <td>5</td>\n",
       "      <td>Typ</td>\n",
       "      <td>0</td>\n",
       "      <td>Detchd</td>\n",
       "      <td>246.0</td>\n",
       "      <td>3</td>\n",
       "      <td>Y</td>\n",
       "      <td>0</td>\n",
       "      <td>52</td>\n",
       "      <td>0</td>\n",
       "      <td>0</td>\n",
       "      <td>0</td>\n",
       "      <td>0</td>\n",
       "      <td>0</td>\n",
       "      <td>1</td>\n",
       "      <td>2010</td>\n",
       "      <td>WD</td>\n",
       "      <td>109000</td>\n",
       "    </tr>\n",
       "    <tr>\n",
       "      <th>3</th>\n",
       "      <td>60</td>\n",
       "      <td>RL</td>\n",
       "      <td>9802</td>\n",
       "      <td>Pave</td>\n",
       "      <td>Reg</td>\n",
       "      <td>Lvl</td>\n",
       "      <td>AllPub</td>\n",
       "      <td>Inside</td>\n",
       "      <td>Gtl</td>\n",
       "      <td>Timber</td>\n",
       "      <td>Norm</td>\n",
       "      <td>Norm</td>\n",
       "      <td>1Fam</td>\n",
       "      <td>2Story</td>\n",
       "      <td>5</td>\n",
       "      <td>5</td>\n",
       "      <td>2006</td>\n",
       "      <td>2007</td>\n",
       "      <td>Gable</td>\n",
       "      <td>CompShg</td>\n",
       "      <td>VinylSd</td>\n",
       "      <td>VinylSd</td>\n",
       "      <td>None</td>\n",
       "      <td>0.0</td>\n",
       "      <td>TA</td>\n",
       "      <td>TA</td>\n",
       "      <td>PConc</td>\n",
       "      <td>1</td>\n",
       "      <td>384.0</td>\n",
       "      <td>GasA</td>\n",
       "      <td>Gd</td>\n",
       "      <td>Y</td>\n",
       "      <td>SBrkr</td>\n",
       "      <td>744</td>\n",
       "      <td>700</td>\n",
       "      <td>0</td>\n",
       "      <td>1444</td>\n",
       "      <td>0.0</td>\n",
       "      <td>0.0</td>\n",
       "      <td>2</td>\n",
       "      <td>1</td>\n",
       "      <td>3</td>\n",
       "      <td>1</td>\n",
       "      <td>TA</td>\n",
       "      <td>7</td>\n",
       "      <td>Typ</td>\n",
       "      <td>0</td>\n",
       "      <td>BuiltIn</td>\n",
       "      <td>400.0</td>\n",
       "      <td>3</td>\n",
       "      <td>Y</td>\n",
       "      <td>100</td>\n",
       "      <td>0</td>\n",
       "      <td>0</td>\n",
       "      <td>0</td>\n",
       "      <td>0</td>\n",
       "      <td>0</td>\n",
       "      <td>0</td>\n",
       "      <td>4</td>\n",
       "      <td>2010</td>\n",
       "      <td>WD</td>\n",
       "      <td>174000</td>\n",
       "    </tr>\n",
       "    <tr>\n",
       "      <th>4</th>\n",
       "      <td>50</td>\n",
       "      <td>RL</td>\n",
       "      <td>14235</td>\n",
       "      <td>Pave</td>\n",
       "      <td>IR1</td>\n",
       "      <td>Lvl</td>\n",
       "      <td>AllPub</td>\n",
       "      <td>Inside</td>\n",
       "      <td>Gtl</td>\n",
       "      <td>SawyerW</td>\n",
       "      <td>Norm</td>\n",
       "      <td>Norm</td>\n",
       "      <td>1Fam</td>\n",
       "      <td>1.5Fin</td>\n",
       "      <td>6</td>\n",
       "      <td>8</td>\n",
       "      <td>1900</td>\n",
       "      <td>1993</td>\n",
       "      <td>Gable</td>\n",
       "      <td>CompShg</td>\n",
       "      <td>Wd Sdng</td>\n",
       "      <td>Plywood</td>\n",
       "      <td>None</td>\n",
       "      <td>0.0</td>\n",
       "      <td>TA</td>\n",
       "      <td>TA</td>\n",
       "      <td>PConc</td>\n",
       "      <td>1</td>\n",
       "      <td>676.0</td>\n",
       "      <td>GasA</td>\n",
       "      <td>TA</td>\n",
       "      <td>Y</td>\n",
       "      <td>SBrkr</td>\n",
       "      <td>831</td>\n",
       "      <td>614</td>\n",
       "      <td>0</td>\n",
       "      <td>1445</td>\n",
       "      <td>0.0</td>\n",
       "      <td>0.0</td>\n",
       "      <td>2</td>\n",
       "      <td>0</td>\n",
       "      <td>3</td>\n",
       "      <td>1</td>\n",
       "      <td>TA</td>\n",
       "      <td>6</td>\n",
       "      <td>Typ</td>\n",
       "      <td>0</td>\n",
       "      <td>Detchd</td>\n",
       "      <td>484.0</td>\n",
       "      <td>3</td>\n",
       "      <td>N</td>\n",
       "      <td>0</td>\n",
       "      <td>59</td>\n",
       "      <td>0</td>\n",
       "      <td>0</td>\n",
       "      <td>0</td>\n",
       "      <td>0</td>\n",
       "      <td>0</td>\n",
       "      <td>3</td>\n",
       "      <td>2010</td>\n",
       "      <td>WD</td>\n",
       "      <td>138500</td>\n",
       "    </tr>\n",
       "  </tbody>\n",
       "</table>\n",
       "</div>"
      ],
      "text/plain": [
       "   ms_subclass ms_zoning  lot_area street lot_shape land_contour utilities  \\\n",
       "0           60        RL     13517   Pave       IR1          Lvl    AllPub   \n",
       "1           60        RL     11492   Pave       IR1          Lvl    AllPub   \n",
       "2           20        RL      7922   Pave       Reg          Lvl    AllPub   \n",
       "3           60        RL      9802   Pave       Reg          Lvl    AllPub   \n",
       "4           50        RL     14235   Pave       IR1          Lvl    AllPub   \n",
       "\n",
       "  lot_config land_slope neighborhood condition_1 condition_2 bldg_type  \\\n",
       "0    CulDSac        Gtl       Sawyer        RRAe        Norm      1Fam   \n",
       "1    CulDSac        Gtl      SawyerW        Norm        Norm      1Fam   \n",
       "2     Inside        Gtl        NAmes        Norm        Norm      1Fam   \n",
       "3     Inside        Gtl       Timber        Norm        Norm      1Fam   \n",
       "4     Inside        Gtl      SawyerW        Norm        Norm      1Fam   \n",
       "\n",
       "  house_style  overall_qual  overall_cond  year_built  year_remod/add  \\\n",
       "0      2Story             6             8        1976            2005   \n",
       "1      2Story             7             5        1996            1997   \n",
       "2      1Story             5             7        1953            2007   \n",
       "3      2Story             5             5        2006            2007   \n",
       "4      1.5Fin             6             8        1900            1993   \n",
       "\n",
       "  roof_style roof_matl exterior_1st exterior_2nd mas_vnr_type  mas_vnr_area  \\\n",
       "0      Gable   CompShg      HdBoard      Plywood      BrkFace         289.0   \n",
       "1      Gable   CompShg      VinylSd      VinylSd      BrkFace         132.0   \n",
       "2      Gable   CompShg      VinylSd      VinylSd         None           0.0   \n",
       "3      Gable   CompShg      VinylSd      VinylSd         None           0.0   \n",
       "4      Gable   CompShg      Wd Sdng      Plywood         None           0.0   \n",
       "\n",
       "  exter_qual exter_cond foundation  bsmtfin_type_1  total_bsmt_sf heating  \\\n",
       "0         Gd         TA     CBlock               6          725.0    GasA   \n",
       "1         Gd         TA      PConc               6          913.0    GasA   \n",
       "2         TA         Gd     CBlock               6         1057.0    GasA   \n",
       "3         TA         TA      PConc               1          384.0    GasA   \n",
       "4         TA         TA      PConc               1          676.0    GasA   \n",
       "\n",
       "  heating_qc central_air electrical  1st_flr_sf  2nd_flr_sf  low_qual_fin_sf  \\\n",
       "0         Ex           Y      SBrkr         725         754                0   \n",
       "1         Ex           Y      SBrkr         913        1209                0   \n",
       "2         TA           Y      SBrkr        1057           0                0   \n",
       "3         Gd           Y      SBrkr         744         700                0   \n",
       "4         TA           Y      SBrkr         831         614                0   \n",
       "\n",
       "   gr_liv_area  bsmt_full_bath  bsmt_half_bath  full_bath  half_bath  \\\n",
       "0         1479             0.0             0.0          2          1   \n",
       "1         2122             1.0             0.0          2          1   \n",
       "2         1057             1.0             0.0          1          0   \n",
       "3         1444             0.0             0.0          2          1   \n",
       "4         1445             0.0             0.0          2          0   \n",
       "\n",
       "   bedroom_abvgr  kitchen_abvgr kitchen_qual  totrms_abvgrd functional  \\\n",
       "0              3              1           Gd              6        Typ   \n",
       "1              4              1           Gd              8        Typ   \n",
       "2              3              1           Gd              5        Typ   \n",
       "3              3              1           TA              7        Typ   \n",
       "4              3              1           TA              6        Typ   \n",
       "\n",
       "   fireplaces garage_type  garage_area  garage_qual paved_drive  wood_deck_sf  \\\n",
       "0           0      Attchd        475.0            3           Y             0   \n",
       "1           1      Attchd        559.0            3           Y             0   \n",
       "2           0      Detchd        246.0            3           Y             0   \n",
       "3           0     BuiltIn        400.0            3           Y           100   \n",
       "4           0      Detchd        484.0            3           N             0   \n",
       "\n",
       "   open_porch_sf  enclosed_porch  3ssn_porch  screen_porch  pool_area  \\\n",
       "0             44               0           0             0          0   \n",
       "1             74               0           0             0          0   \n",
       "2             52               0           0             0          0   \n",
       "3              0               0           0             0          0   \n",
       "4             59               0           0             0          0   \n",
       "\n",
       "   misc_val  mo_sold  yr_sold sale_type  saleprice  \n",
       "0         0        3     2010       WD      130500  \n",
       "1         0        4     2009       WD      220000  \n",
       "2         0        1     2010       WD      109000  \n",
       "3         0        4     2010       WD      174000  \n",
       "4         0        3     2010       WD      138500  "
      ]
     },
     "execution_count": 4,
     "metadata": {},
     "output_type": "execute_result"
    }
   ],
   "source": [
    "# Importing dataset with initial cleaning from Section 1:\n",
    "df = pd.read_csv('../datasets/basic_cleaned_housing_data.csv',sep= '\\t')\n",
    "df.drop(columns= ['Unnamed: 0','id','pid'], inplace=True)\n",
    "df.head()"
   ]
  },
  {
   "cell_type": "markdown",
   "id": "89c55de9",
   "metadata": {},
   "source": [
    "### Exploring the Target Variable: 'saleprice'"
   ]
  },
  {
   "cell_type": "code",
   "execution_count": 5,
   "id": "32df2d56",
   "metadata": {
    "scrolled": false
   },
   "outputs": [
    {
     "data": {
      "image/png": "[encoded data removed]",
      "text/plain": [
       "<Figure size 432x288 with 1 Axes>"
      ]
     },
     "metadata": {
      "needs_background": "light"
     },
     "output_type": "display_data"
    }
   ],
   "source": [
    "# Investigating target variable\n",
    "sns.boxplot(df['saleprice'])\n",
    "plt.title('Distribution of House Sale Price', weight = 'bold', size = 15);"
   ]
  },
  {
   "cell_type": "code",
   "execution_count": 6,
   "id": "c495bf35",
   "metadata": {},
   "outputs": [
    {
     "data": {
      "image/png": "[encoded data removed]",
      "text/plain": [
       "<Figure size 576x360 with 1 Axes>"
      ]
     },
     "metadata": {
      "needs_background": "light"
     },
     "output_type": "display_data"
    }
   ],
   "source": [
    "plt.figure(figsize=(8,5))\n",
    "sns.distplot(df['saleprice'])\n",
    "plt.title('Distribution of House Sale Price', weight = 'bold', size = 15);"
   ]
  },
  {
   "cell_type": "code",
   "execution_count": 7,
   "id": "f095b28b",
   "metadata": {},
   "outputs": [
    {
     "data": {
      "text/html": [
       "<div>\n",
       "<style scoped>\n",
       "    .dataframe tbody tr th:only-of-type {\n",
       "        vertical-align: middle;\n",
       "    }\n",
       "\n",
       "    .dataframe tbody tr th {\n",
       "        vertical-align: top;\n",
       "    }\n",
       "\n",
       "    .dataframe thead th {\n",
       "        text-align: right;\n",
       "    }\n",
       "</style>\n",
       "<table border=\"1\" class=\"dataframe\">\n",
       "  <thead>\n",
       "    <tr style=\"text-align: right;\">\n",
       "      <th></th>\n",
       "      <th>ms_subclass</th>\n",
       "      <th>ms_zoning</th>\n",
       "      <th>lot_area</th>\n",
       "      <th>street</th>\n",
       "      <th>lot_shape</th>\n",
       "      <th>land_contour</th>\n",
       "      <th>utilities</th>\n",
       "      <th>lot_config</th>\n",
       "      <th>land_slope</th>\n",
       "      <th>neighborhood</th>\n",
       "      <th>condition_1</th>\n",
       "      <th>condition_2</th>\n",
       "      <th>bldg_type</th>\n",
       "      <th>house_style</th>\n",
       "      <th>overall_qual</th>\n",
       "      <th>overall_cond</th>\n",
       "      <th>year_built</th>\n",
       "      <th>year_remod/add</th>\n",
       "      <th>roof_style</th>\n",
       "      <th>roof_matl</th>\n",
       "      <th>exterior_1st</th>\n",
       "      <th>exterior_2nd</th>\n",
       "      <th>mas_vnr_type</th>\n",
       "      <th>mas_vnr_area</th>\n",
       "      <th>exter_qual</th>\n",
       "      <th>exter_cond</th>\n",
       "      <th>foundation</th>\n",
       "      <th>bsmtfin_type_1</th>\n",
       "      <th>total_bsmt_sf</th>\n",
       "      <th>heating</th>\n",
       "      <th>heating_qc</th>\n",
       "      <th>central_air</th>\n",
       "      <th>electrical</th>\n",
       "      <th>1st_flr_sf</th>\n",
       "      <th>2nd_flr_sf</th>\n",
       "      <th>low_qual_fin_sf</th>\n",
       "      <th>gr_liv_area</th>\n",
       "      <th>bsmt_full_bath</th>\n",
       "      <th>bsmt_half_bath</th>\n",
       "      <th>full_bath</th>\n",
       "      <th>half_bath</th>\n",
       "      <th>bedroom_abvgr</th>\n",
       "      <th>kitchen_abvgr</th>\n",
       "      <th>kitchen_qual</th>\n",
       "      <th>totrms_abvgrd</th>\n",
       "      <th>functional</th>\n",
       "      <th>fireplaces</th>\n",
       "      <th>garage_type</th>\n",
       "      <th>garage_area</th>\n",
       "      <th>garage_qual</th>\n",
       "      <th>paved_drive</th>\n",
       "      <th>wood_deck_sf</th>\n",
       "      <th>open_porch_sf</th>\n",
       "      <th>enclosed_porch</th>\n",
       "      <th>3ssn_porch</th>\n",
       "      <th>screen_porch</th>\n",
       "      <th>pool_area</th>\n",
       "      <th>misc_val</th>\n",
       "      <th>mo_sold</th>\n",
       "      <th>yr_sold</th>\n",
       "      <th>sale_type</th>\n",
       "      <th>saleprice</th>\n",
       "    </tr>\n",
       "  </thead>\n",
       "  <tbody>\n",
       "    <tr>\n",
       "      <th>1608</th>\n",
       "      <td>30</td>\n",
       "      <td>RM</td>\n",
       "      <td>9656</td>\n",
       "      <td>Pave</td>\n",
       "      <td>Reg</td>\n",
       "      <td>Lvl</td>\n",
       "      <td>AllPub</td>\n",
       "      <td>Inside</td>\n",
       "      <td>Gtl</td>\n",
       "      <td>OldTown</td>\n",
       "      <td>Norm</td>\n",
       "      <td>Norm</td>\n",
       "      <td>1Fam</td>\n",
       "      <td>1Story</td>\n",
       "      <td>2</td>\n",
       "      <td>2</td>\n",
       "      <td>1923</td>\n",
       "      <td>1970</td>\n",
       "      <td>Gable</td>\n",
       "      <td>CompShg</td>\n",
       "      <td>AsbShng</td>\n",
       "      <td>AsbShng</td>\n",
       "      <td>None</td>\n",
       "      <td>0.0</td>\n",
       "      <td>TA</td>\n",
       "      <td>Fa</td>\n",
       "      <td>BrkTil</td>\n",
       "      <td>1</td>\n",
       "      <td>678.0</td>\n",
       "      <td>GasA</td>\n",
       "      <td>TA</td>\n",
       "      <td>N</td>\n",
       "      <td>SBrkr</td>\n",
       "      <td>832</td>\n",
       "      <td>0</td>\n",
       "      <td>0</td>\n",
       "      <td>832</td>\n",
       "      <td>0.0</td>\n",
       "      <td>0.0</td>\n",
       "      <td>1</td>\n",
       "      <td>0</td>\n",
       "      <td>2</td>\n",
       "      <td>1</td>\n",
       "      <td>TA</td>\n",
       "      <td>5</td>\n",
       "      <td>Typ</td>\n",
       "      <td>1</td>\n",
       "      <td>Detchd</td>\n",
       "      <td>780.0</td>\n",
       "      <td>2</td>\n",
       "      <td>N</td>\n",
       "      <td>0</td>\n",
       "      <td>0</td>\n",
       "      <td>0</td>\n",
       "      <td>0</td>\n",
       "      <td>0</td>\n",
       "      <td>0</td>\n",
       "      <td>0</td>\n",
       "      <td>6</td>\n",
       "      <td>2010</td>\n",
       "      <td>WD</td>\n",
       "      <td>12789</td>\n",
       "    </tr>\n",
       "    <tr>\n",
       "      <th>180</th>\n",
       "      <td>20</td>\n",
       "      <td>A (agr)</td>\n",
       "      <td>14584</td>\n",
       "      <td>Pave</td>\n",
       "      <td>Reg</td>\n",
       "      <td>Low</td>\n",
       "      <td>AllPub</td>\n",
       "      <td>Inside</td>\n",
       "      <td>Mod</td>\n",
       "      <td>IDOTRR</td>\n",
       "      <td>Norm</td>\n",
       "      <td>Norm</td>\n",
       "      <td>1Fam</td>\n",
       "      <td>1Story</td>\n",
       "      <td>1</td>\n",
       "      <td>5</td>\n",
       "      <td>1952</td>\n",
       "      <td>1952</td>\n",
       "      <td>Gable</td>\n",
       "      <td>CompShg</td>\n",
       "      <td>AsbShng</td>\n",
       "      <td>VinylSd</td>\n",
       "      <td>None</td>\n",
       "      <td>0.0</td>\n",
       "      <td>Fa</td>\n",
       "      <td>Po</td>\n",
       "      <td>Slab</td>\n",
       "      <td>0</td>\n",
       "      <td>0.0</td>\n",
       "      <td>Wall</td>\n",
       "      <td>Po</td>\n",
       "      <td>N</td>\n",
       "      <td>FuseA</td>\n",
       "      <td>733</td>\n",
       "      <td>0</td>\n",
       "      <td>0</td>\n",
       "      <td>733</td>\n",
       "      <td>0.0</td>\n",
       "      <td>0.0</td>\n",
       "      <td>1</td>\n",
       "      <td>0</td>\n",
       "      <td>2</td>\n",
       "      <td>1</td>\n",
       "      <td>Fa</td>\n",
       "      <td>4</td>\n",
       "      <td>Sal</td>\n",
       "      <td>0</td>\n",
       "      <td>Attchd</td>\n",
       "      <td>487.0</td>\n",
       "      <td>2</td>\n",
       "      <td>N</td>\n",
       "      <td>0</td>\n",
       "      <td>0</td>\n",
       "      <td>0</td>\n",
       "      <td>0</td>\n",
       "      <td>0</td>\n",
       "      <td>0</td>\n",
       "      <td>0</td>\n",
       "      <td>2</td>\n",
       "      <td>2008</td>\n",
       "      <td>WD</td>\n",
       "      <td>13100</td>\n",
       "    </tr>\n",
       "    <tr>\n",
       "      <th>1293</th>\n",
       "      <td>30</td>\n",
       "      <td>C (all)</td>\n",
       "      <td>7879</td>\n",
       "      <td>Pave</td>\n",
       "      <td>Reg</td>\n",
       "      <td>Lvl</td>\n",
       "      <td>AllPub</td>\n",
       "      <td>Inside</td>\n",
       "      <td>Gtl</td>\n",
       "      <td>IDOTRR</td>\n",
       "      <td>Norm</td>\n",
       "      <td>Norm</td>\n",
       "      <td>1Fam</td>\n",
       "      <td>1Story</td>\n",
       "      <td>4</td>\n",
       "      <td>5</td>\n",
       "      <td>1920</td>\n",
       "      <td>1950</td>\n",
       "      <td>Gable</td>\n",
       "      <td>CompShg</td>\n",
       "      <td>Wd Sdng</td>\n",
       "      <td>Wd Sdng</td>\n",
       "      <td>None</td>\n",
       "      <td>0.0</td>\n",
       "      <td>TA</td>\n",
       "      <td>TA</td>\n",
       "      <td>CBlock</td>\n",
       "      <td>3</td>\n",
       "      <td>720.0</td>\n",
       "      <td>GasA</td>\n",
       "      <td>TA</td>\n",
       "      <td>N</td>\n",
       "      <td>FuseA</td>\n",
       "      <td>720</td>\n",
       "      <td>0</td>\n",
       "      <td>0</td>\n",
       "      <td>720</td>\n",
       "      <td>0.0</td>\n",
       "      <td>0.0</td>\n",
       "      <td>1</td>\n",
       "      <td>0</td>\n",
       "      <td>2</td>\n",
       "      <td>1</td>\n",
       "      <td>TA</td>\n",
       "      <td>4</td>\n",
       "      <td>Typ</td>\n",
       "      <td>0</td>\n",
       "      <td>none</td>\n",
       "      <td>0.0</td>\n",
       "      <td>0</td>\n",
       "      <td>N</td>\n",
       "      <td>0</td>\n",
       "      <td>523</td>\n",
       "      <td>115</td>\n",
       "      <td>0</td>\n",
       "      <td>0</td>\n",
       "      <td>0</td>\n",
       "      <td>0</td>\n",
       "      <td>11</td>\n",
       "      <td>2009</td>\n",
       "      <td>WD</td>\n",
       "      <td>34900</td>\n",
       "    </tr>\n",
       "    <tr>\n",
       "      <th>1277</th>\n",
       "      <td>30</td>\n",
       "      <td>RL</td>\n",
       "      <td>8088</td>\n",
       "      <td>Pave</td>\n",
       "      <td>Reg</td>\n",
       "      <td>Lvl</td>\n",
       "      <td>AllPub</td>\n",
       "      <td>Inside</td>\n",
       "      <td>Gtl</td>\n",
       "      <td>Edwards</td>\n",
       "      <td>Feedr</td>\n",
       "      <td>Norm</td>\n",
       "      <td>1Fam</td>\n",
       "      <td>1Story</td>\n",
       "      <td>2</td>\n",
       "      <td>3</td>\n",
       "      <td>1922</td>\n",
       "      <td>1955</td>\n",
       "      <td>Gable</td>\n",
       "      <td>CompShg</td>\n",
       "      <td>MetalSd</td>\n",
       "      <td>MetalSd</td>\n",
       "      <td>None</td>\n",
       "      <td>0.0</td>\n",
       "      <td>TA</td>\n",
       "      <td>TA</td>\n",
       "      <td>BrkTil</td>\n",
       "      <td>1</td>\n",
       "      <td>498.0</td>\n",
       "      <td>GasA</td>\n",
       "      <td>TA</td>\n",
       "      <td>N</td>\n",
       "      <td>FuseF</td>\n",
       "      <td>498</td>\n",
       "      <td>0</td>\n",
       "      <td>0</td>\n",
       "      <td>498</td>\n",
       "      <td>0.0</td>\n",
       "      <td>0.0</td>\n",
       "      <td>1</td>\n",
       "      <td>0</td>\n",
       "      <td>1</td>\n",
       "      <td>1</td>\n",
       "      <td>TA</td>\n",
       "      <td>3</td>\n",
       "      <td>Typ</td>\n",
       "      <td>0</td>\n",
       "      <td>Detchd</td>\n",
       "      <td>216.0</td>\n",
       "      <td>2</td>\n",
       "      <td>N</td>\n",
       "      <td>0</td>\n",
       "      <td>0</td>\n",
       "      <td>100</td>\n",
       "      <td>0</td>\n",
       "      <td>0</td>\n",
       "      <td>0</td>\n",
       "      <td>0</td>\n",
       "      <td>2</td>\n",
       "      <td>2006</td>\n",
       "      <td>ConLD</td>\n",
       "      <td>35000</td>\n",
       "    </tr>\n",
       "    <tr>\n",
       "      <th>1499</th>\n",
       "      <td>20</td>\n",
       "      <td>C (all)</td>\n",
       "      <td>9000</td>\n",
       "      <td>Pave</td>\n",
       "      <td>Reg</td>\n",
       "      <td>Lvl</td>\n",
       "      <td>AllPub</td>\n",
       "      <td>Inside</td>\n",
       "      <td>Gtl</td>\n",
       "      <td>IDOTRR</td>\n",
       "      <td>Norm</td>\n",
       "      <td>Norm</td>\n",
       "      <td>1Fam</td>\n",
       "      <td>1Story</td>\n",
       "      <td>2</td>\n",
       "      <td>3</td>\n",
       "      <td>1949</td>\n",
       "      <td>1950</td>\n",
       "      <td>Gable</td>\n",
       "      <td>CompShg</td>\n",
       "      <td>AsbShng</td>\n",
       "      <td>AsbShng</td>\n",
       "      <td>None</td>\n",
       "      <td>0.0</td>\n",
       "      <td>TA</td>\n",
       "      <td>TA</td>\n",
       "      <td>CBlock</td>\n",
       "      <td>4</td>\n",
       "      <td>480.0</td>\n",
       "      <td>GasA</td>\n",
       "      <td>TA</td>\n",
       "      <td>N</td>\n",
       "      <td>FuseA</td>\n",
       "      <td>480</td>\n",
       "      <td>0</td>\n",
       "      <td>0</td>\n",
       "      <td>480</td>\n",
       "      <td>1.0</td>\n",
       "      <td>0.0</td>\n",
       "      <td>0</td>\n",
       "      <td>0</td>\n",
       "      <td>1</td>\n",
       "      <td>1</td>\n",
       "      <td>TA</td>\n",
       "      <td>4</td>\n",
       "      <td>Typ</td>\n",
       "      <td>0</td>\n",
       "      <td>Detchd</td>\n",
       "      <td>308.0</td>\n",
       "      <td>3</td>\n",
       "      <td>Y</td>\n",
       "      <td>0</td>\n",
       "      <td>0</td>\n",
       "      <td>0</td>\n",
       "      <td>0</td>\n",
       "      <td>0</td>\n",
       "      <td>0</td>\n",
       "      <td>0</td>\n",
       "      <td>10</td>\n",
       "      <td>2006</td>\n",
       "      <td>WD</td>\n",
       "      <td>35311</td>\n",
       "    </tr>\n",
       "    <tr>\n",
       "      <th>...</th>\n",
       "      <td>...</td>\n",
       "      <td>...</td>\n",
       "      <td>...</td>\n",
       "      <td>...</td>\n",
       "      <td>...</td>\n",
       "      <td>...</td>\n",
       "      <td>...</td>\n",
       "      <td>...</td>\n",
       "      <td>...</td>\n",
       "      <td>...</td>\n",
       "      <td>...</td>\n",
       "      <td>...</td>\n",
       "      <td>...</td>\n",
       "      <td>...</td>\n",
       "      <td>...</td>\n",
       "      <td>...</td>\n",
       "      <td>...</td>\n",
       "      <td>...</td>\n",
       "      <td>...</td>\n",
       "      <td>...</td>\n",
       "      <td>...</td>\n",
       "      <td>...</td>\n",
       "      <td>...</td>\n",
       "      <td>...</td>\n",
       "      <td>...</td>\n",
       "      <td>...</td>\n",
       "      <td>...</td>\n",
       "      <td>...</td>\n",
       "      <td>...</td>\n",
       "      <td>...</td>\n",
       "      <td>...</td>\n",
       "      <td>...</td>\n",
       "      <td>...</td>\n",
       "      <td>...</td>\n",
       "      <td>...</td>\n",
       "      <td>...</td>\n",
       "      <td>...</td>\n",
       "      <td>...</td>\n",
       "      <td>...</td>\n",
       "      <td>...</td>\n",
       "      <td>...</td>\n",
       "      <td>...</td>\n",
       "      <td>...</td>\n",
       "      <td>...</td>\n",
       "      <td>...</td>\n",
       "      <td>...</td>\n",
       "      <td>...</td>\n",
       "      <td>...</td>\n",
       "      <td>...</td>\n",
       "      <td>...</td>\n",
       "      <td>...</td>\n",
       "      <td>...</td>\n",
       "      <td>...</td>\n",
       "      <td>...</td>\n",
       "      <td>...</td>\n",
       "      <td>...</td>\n",
       "      <td>...</td>\n",
       "      <td>...</td>\n",
       "      <td>...</td>\n",
       "      <td>...</td>\n",
       "      <td>...</td>\n",
       "      <td>...</td>\n",
       "    </tr>\n",
       "    <tr>\n",
       "      <th>148</th>\n",
       "      <td>60</td>\n",
       "      <td>RL</td>\n",
       "      <td>16056</td>\n",
       "      <td>Pave</td>\n",
       "      <td>IR1</td>\n",
       "      <td>Lvl</td>\n",
       "      <td>AllPub</td>\n",
       "      <td>Inside</td>\n",
       "      <td>Gtl</td>\n",
       "      <td>StoneBr</td>\n",
       "      <td>Norm</td>\n",
       "      <td>Norm</td>\n",
       "      <td>1Fam</td>\n",
       "      <td>2Story</td>\n",
       "      <td>9</td>\n",
       "      <td>5</td>\n",
       "      <td>2005</td>\n",
       "      <td>2006</td>\n",
       "      <td>Hip</td>\n",
       "      <td>CompShg</td>\n",
       "      <td>CemntBd</td>\n",
       "      <td>CmentBd</td>\n",
       "      <td>Stone</td>\n",
       "      <td>208.0</td>\n",
       "      <td>Gd</td>\n",
       "      <td>TA</td>\n",
       "      <td>PConc</td>\n",
       "      <td>6</td>\n",
       "      <td>1992.0</td>\n",
       "      <td>GasA</td>\n",
       "      <td>Ex</td>\n",
       "      <td>Y</td>\n",
       "      <td>SBrkr</td>\n",
       "      <td>1992</td>\n",
       "      <td>876</td>\n",
       "      <td>0</td>\n",
       "      <td>2868</td>\n",
       "      <td>0.0</td>\n",
       "      <td>0.0</td>\n",
       "      <td>3</td>\n",
       "      <td>1</td>\n",
       "      <td>4</td>\n",
       "      <td>1</td>\n",
       "      <td>Ex</td>\n",
       "      <td>11</td>\n",
       "      <td>Typ</td>\n",
       "      <td>1</td>\n",
       "      <td>BuiltIn</td>\n",
       "      <td>716.0</td>\n",
       "      <td>3</td>\n",
       "      <td>Y</td>\n",
       "      <td>214</td>\n",
       "      <td>108</td>\n",
       "      <td>0</td>\n",
       "      <td>0</td>\n",
       "      <td>0</td>\n",
       "      <td>0</td>\n",
       "      <td>0</td>\n",
       "      <td>7</td>\n",
       "      <td>2006</td>\n",
       "      <td>New</td>\n",
       "      <td>556581</td>\n",
       "    </tr>\n",
       "    <tr>\n",
       "      <th>1774</th>\n",
       "      <td>60</td>\n",
       "      <td>RL</td>\n",
       "      <td>13891</td>\n",
       "      <td>Pave</td>\n",
       "      <td>Reg</td>\n",
       "      <td>Lvl</td>\n",
       "      <td>AllPub</td>\n",
       "      <td>Inside</td>\n",
       "      <td>Gtl</td>\n",
       "      <td>NridgHt</td>\n",
       "      <td>Norm</td>\n",
       "      <td>Norm</td>\n",
       "      <td>1Fam</td>\n",
       "      <td>2Story</td>\n",
       "      <td>9</td>\n",
       "      <td>5</td>\n",
       "      <td>2008</td>\n",
       "      <td>2009</td>\n",
       "      <td>Hip</td>\n",
       "      <td>CompShg</td>\n",
       "      <td>VinylSd</td>\n",
       "      <td>VinylSd</td>\n",
       "      <td>Stone</td>\n",
       "      <td>424.0</td>\n",
       "      <td>Ex</td>\n",
       "      <td>TA</td>\n",
       "      <td>PConc</td>\n",
       "      <td>1</td>\n",
       "      <td>1734.0</td>\n",
       "      <td>GasA</td>\n",
       "      <td>Ex</td>\n",
       "      <td>Y</td>\n",
       "      <td>SBrkr</td>\n",
       "      <td>1734</td>\n",
       "      <td>1088</td>\n",
       "      <td>0</td>\n",
       "      <td>2822</td>\n",
       "      <td>0.0</td>\n",
       "      <td>0.0</td>\n",
       "      <td>3</td>\n",
       "      <td>1</td>\n",
       "      <td>4</td>\n",
       "      <td>1</td>\n",
       "      <td>Ex</td>\n",
       "      <td>12</td>\n",
       "      <td>Typ</td>\n",
       "      <td>1</td>\n",
       "      <td>BuiltIn</td>\n",
       "      <td>1020.0</td>\n",
       "      <td>3</td>\n",
       "      <td>Y</td>\n",
       "      <td>52</td>\n",
       "      <td>170</td>\n",
       "      <td>0</td>\n",
       "      <td>0</td>\n",
       "      <td>192</td>\n",
       "      <td>0</td>\n",
       "      <td>0</td>\n",
       "      <td>1</td>\n",
       "      <td>2009</td>\n",
       "      <td>New</td>\n",
       "      <td>582933</td>\n",
       "    </tr>\n",
       "    <tr>\n",
       "      <th>1672</th>\n",
       "      <td>60</td>\n",
       "      <td>RL</td>\n",
       "      <td>17242</td>\n",
       "      <td>Pave</td>\n",
       "      <td>IR1</td>\n",
       "      <td>Lvl</td>\n",
       "      <td>AllPub</td>\n",
       "      <td>Inside</td>\n",
       "      <td>Gtl</td>\n",
       "      <td>NoRidge</td>\n",
       "      <td>Norm</td>\n",
       "      <td>Norm</td>\n",
       "      <td>1Fam</td>\n",
       "      <td>2Story</td>\n",
       "      <td>9</td>\n",
       "      <td>5</td>\n",
       "      <td>1993</td>\n",
       "      <td>1994</td>\n",
       "      <td>Hip</td>\n",
       "      <td>CompShg</td>\n",
       "      <td>MetalSd</td>\n",
       "      <td>MetalSd</td>\n",
       "      <td>BrkFace</td>\n",
       "      <td>738.0</td>\n",
       "      <td>Gd</td>\n",
       "      <td>Gd</td>\n",
       "      <td>PConc</td>\n",
       "      <td>3</td>\n",
       "      <td>1733.0</td>\n",
       "      <td>GasA</td>\n",
       "      <td>Ex</td>\n",
       "      <td>Y</td>\n",
       "      <td>SBrkr</td>\n",
       "      <td>1933</td>\n",
       "      <td>1567</td>\n",
       "      <td>0</td>\n",
       "      <td>3500</td>\n",
       "      <td>1.0</td>\n",
       "      <td>0.0</td>\n",
       "      <td>3</td>\n",
       "      <td>1</td>\n",
       "      <td>4</td>\n",
       "      <td>1</td>\n",
       "      <td>Ex</td>\n",
       "      <td>11</td>\n",
       "      <td>Typ</td>\n",
       "      <td>1</td>\n",
       "      <td>Attchd</td>\n",
       "      <td>959.0</td>\n",
       "      <td>3</td>\n",
       "      <td>Y</td>\n",
       "      <td>870</td>\n",
       "      <td>86</td>\n",
       "      <td>0</td>\n",
       "      <td>0</td>\n",
       "      <td>210</td>\n",
       "      <td>0</td>\n",
       "      <td>0</td>\n",
       "      <td>5</td>\n",
       "      <td>2006</td>\n",
       "      <td>WD</td>\n",
       "      <td>584500</td>\n",
       "    </tr>\n",
       "    <tr>\n",
       "      <th>1939</th>\n",
       "      <td>20</td>\n",
       "      <td>RL</td>\n",
       "      <td>51974</td>\n",
       "      <td>Pave</td>\n",
       "      <td>IR1</td>\n",
       "      <td>Lvl</td>\n",
       "      <td>AllPub</td>\n",
       "      <td>CulDSac</td>\n",
       "      <td>Gtl</td>\n",
       "      <td>StoneBr</td>\n",
       "      <td>PosN</td>\n",
       "      <td>Norm</td>\n",
       "      <td>1Fam</td>\n",
       "      <td>1Story</td>\n",
       "      <td>9</td>\n",
       "      <td>5</td>\n",
       "      <td>2006</td>\n",
       "      <td>2007</td>\n",
       "      <td>Hip</td>\n",
       "      <td>CompShg</td>\n",
       "      <td>VinylSd</td>\n",
       "      <td>VinylSd</td>\n",
       "      <td>BrkFace</td>\n",
       "      <td>710.0</td>\n",
       "      <td>Ex</td>\n",
       "      <td>TA</td>\n",
       "      <td>PConc</td>\n",
       "      <td>6</td>\n",
       "      <td>2660.0</td>\n",
       "      <td>GasA</td>\n",
       "      <td>Ex</td>\n",
       "      <td>Y</td>\n",
       "      <td>SBrkr</td>\n",
       "      <td>2338</td>\n",
       "      <td>0</td>\n",
       "      <td>0</td>\n",
       "      <td>2338</td>\n",
       "      <td>1.0</td>\n",
       "      <td>0.0</td>\n",
       "      <td>2</td>\n",
       "      <td>1</td>\n",
       "      <td>4</td>\n",
       "      <td>1</td>\n",
       "      <td>Gd</td>\n",
       "      <td>8</td>\n",
       "      <td>Typ</td>\n",
       "      <td>2</td>\n",
       "      <td>Attchd</td>\n",
       "      <td>1110.0</td>\n",
       "      <td>4</td>\n",
       "      <td>Y</td>\n",
       "      <td>0</td>\n",
       "      <td>135</td>\n",
       "      <td>0</td>\n",
       "      <td>0</td>\n",
       "      <td>322</td>\n",
       "      <td>0</td>\n",
       "      <td>0</td>\n",
       "      <td>6</td>\n",
       "      <td>2007</td>\n",
       "      <td>New</td>\n",
       "      <td>591587</td>\n",
       "    </tr>\n",
       "    <tr>\n",
       "      <th>1651</th>\n",
       "      <td>20</td>\n",
       "      <td>RL</td>\n",
       "      <td>12919</td>\n",
       "      <td>Pave</td>\n",
       "      <td>IR1</td>\n",
       "      <td>Lvl</td>\n",
       "      <td>AllPub</td>\n",
       "      <td>Inside</td>\n",
       "      <td>Gtl</td>\n",
       "      <td>NridgHt</td>\n",
       "      <td>Norm</td>\n",
       "      <td>Norm</td>\n",
       "      <td>1Fam</td>\n",
       "      <td>1Story</td>\n",
       "      <td>9</td>\n",
       "      <td>5</td>\n",
       "      <td>2009</td>\n",
       "      <td>2010</td>\n",
       "      <td>Hip</td>\n",
       "      <td>CompShg</td>\n",
       "      <td>VinylSd</td>\n",
       "      <td>VinylSd</td>\n",
       "      <td>Stone</td>\n",
       "      <td>760.0</td>\n",
       "      <td>Ex</td>\n",
       "      <td>TA</td>\n",
       "      <td>PConc</td>\n",
       "      <td>6</td>\n",
       "      <td>2330.0</td>\n",
       "      <td>GasA</td>\n",
       "      <td>Ex</td>\n",
       "      <td>Y</td>\n",
       "      <td>SBrkr</td>\n",
       "      <td>2364</td>\n",
       "      <td>0</td>\n",
       "      <td>0</td>\n",
       "      <td>2364</td>\n",
       "      <td>1.0</td>\n",
       "      <td>0.0</td>\n",
       "      <td>2</td>\n",
       "      <td>1</td>\n",
       "      <td>2</td>\n",
       "      <td>1</td>\n",
       "      <td>Ex</td>\n",
       "      <td>11</td>\n",
       "      <td>Typ</td>\n",
       "      <td>2</td>\n",
       "      <td>Attchd</td>\n",
       "      <td>820.0</td>\n",
       "      <td>3</td>\n",
       "      <td>Y</td>\n",
       "      <td>0</td>\n",
       "      <td>67</td>\n",
       "      <td>0</td>\n",
       "      <td>0</td>\n",
       "      <td>0</td>\n",
       "      <td>0</td>\n",
       "      <td>0</td>\n",
       "      <td>3</td>\n",
       "      <td>2010</td>\n",
       "      <td>New</td>\n",
       "      <td>611657</td>\n",
       "    </tr>\n",
       "  </tbody>\n",
       "</table>\n",
       "<p>2026 rows × 62 columns</p>\n",
       "</div>"
      ],
      "text/plain": [
       "      ms_subclass ms_zoning  lot_area street lot_shape land_contour utilities  \\\n",
       "1608           30        RM      9656   Pave       Reg          Lvl    AllPub   \n",
       "180            20   A (agr)     14584   Pave       Reg          Low    AllPub   \n",
       "1293           30   C (all)      7879   Pave       Reg          Lvl    AllPub   \n",
       "1277           30        RL      8088   Pave       Reg          Lvl    AllPub   \n",
       "1499           20   C (all)      9000   Pave       Reg          Lvl    AllPub   \n",
       "...           ...       ...       ...    ...       ...          ...       ...   \n",
       "148            60        RL     16056   Pave       IR1          Lvl    AllPub   \n",
       "1774           60        RL     13891   Pave       Reg          Lvl    AllPub   \n",
       "1672           60        RL     17242   Pave       IR1          Lvl    AllPub   \n",
       "1939           20        RL     51974   Pave       IR1          Lvl    AllPub   \n",
       "1651           20        RL     12919   Pave       IR1          Lvl    AllPub   \n",
       "\n",
       "     lot_config land_slope neighborhood condition_1 condition_2 bldg_type  \\\n",
       "1608     Inside        Gtl      OldTown        Norm        Norm      1Fam   \n",
       "180      Inside        Mod       IDOTRR        Norm        Norm      1Fam   \n",
       "1293     Inside        Gtl       IDOTRR        Norm        Norm      1Fam   \n",
       "1277     Inside        Gtl      Edwards       Feedr        Norm      1Fam   \n",
       "1499     Inside        Gtl       IDOTRR        Norm        Norm      1Fam   \n",
       "...         ...        ...          ...         ...         ...       ...   \n",
       "148      Inside        Gtl      StoneBr        Norm        Norm      1Fam   \n",
       "1774     Inside        Gtl      NridgHt        Norm        Norm      1Fam   \n",
       "1672     Inside        Gtl      NoRidge        Norm        Norm      1Fam   \n",
       "1939    CulDSac        Gtl      StoneBr        PosN        Norm      1Fam   \n",
       "1651     Inside        Gtl      NridgHt        Norm        Norm      1Fam   \n",
       "\n",
       "     house_style  overall_qual  overall_cond  year_built  year_remod/add  \\\n",
       "1608      1Story             2             2        1923            1970   \n",
       "180       1Story             1             5        1952            1952   \n",
       "1293      1Story             4             5        1920            1950   \n",
       "1277      1Story             2             3        1922            1955   \n",
       "1499      1Story             2             3        1949            1950   \n",
       "...          ...           ...           ...         ...             ...   \n",
       "148       2Story             9             5        2005            2006   \n",
       "1774      2Story             9             5        2008            2009   \n",
       "1672      2Story             9             5        1993            1994   \n",
       "1939      1Story             9             5        2006            2007   \n",
       "1651      1Story             9             5        2009            2010   \n",
       "\n",
       "     roof_style roof_matl exterior_1st exterior_2nd mas_vnr_type  \\\n",
       "1608      Gable   CompShg      AsbShng      AsbShng         None   \n",
       "180       Gable   CompShg      AsbShng      VinylSd         None   \n",
       "1293      Gable   CompShg      Wd Sdng      Wd Sdng         None   \n",
       "1277      Gable   CompShg      MetalSd      MetalSd         None   \n",
       "1499      Gable   CompShg      AsbShng      AsbShng         None   \n",
       "...         ...       ...          ...          ...          ...   \n",
       "148         Hip   CompShg      CemntBd      CmentBd        Stone   \n",
       "1774        Hip   CompShg      VinylSd      VinylSd        Stone   \n",
       "1672        Hip   CompShg      MetalSd      MetalSd      BrkFace   \n",
       "1939        Hip   CompShg      VinylSd      VinylSd      BrkFace   \n",
       "1651        Hip   CompShg      VinylSd      VinylSd        Stone   \n",
       "\n",
       "      mas_vnr_area exter_qual exter_cond foundation  bsmtfin_type_1  \\\n",
       "1608           0.0         TA         Fa     BrkTil               1   \n",
       "180            0.0         Fa         Po       Slab               0   \n",
       "1293           0.0         TA         TA     CBlock               3   \n",
       "1277           0.0         TA         TA     BrkTil               1   \n",
       "1499           0.0         TA         TA     CBlock               4   \n",
       "...            ...        ...        ...        ...             ...   \n",
       "148          208.0         Gd         TA      PConc               6   \n",
       "1774         424.0         Ex         TA      PConc               1   \n",
       "1672         738.0         Gd         Gd      PConc               3   \n",
       "1939         710.0         Ex         TA      PConc               6   \n",
       "1651         760.0         Ex         TA      PConc               6   \n",
       "\n",
       "      total_bsmt_sf heating heating_qc central_air electrical  1st_flr_sf  \\\n",
       "1608          678.0    GasA         TA           N      SBrkr         832   \n",
       "180             0.0    Wall         Po           N      FuseA         733   \n",
       "1293          720.0    GasA         TA           N      FuseA         720   \n",
       "1277          498.0    GasA         TA           N      FuseF         498   \n",
       "1499          480.0    GasA         TA           N      FuseA         480   \n",
       "...             ...     ...        ...         ...        ...         ...   \n",
       "148          1992.0    GasA         Ex           Y      SBrkr        1992   \n",
       "1774         1734.0    GasA         Ex           Y      SBrkr        1734   \n",
       "1672         1733.0    GasA         Ex           Y      SBrkr        1933   \n",
       "1939         2660.0    GasA         Ex           Y      SBrkr        2338   \n",
       "1651         2330.0    GasA         Ex           Y      SBrkr        2364   \n",
       "\n",
       "      2nd_flr_sf  low_qual_fin_sf  gr_liv_area  bsmt_full_bath  \\\n",
       "1608           0                0          832             0.0   \n",
       "180            0                0          733             0.0   \n",
       "1293           0                0          720             0.0   \n",
       "1277           0                0          498             0.0   \n",
       "1499           0                0          480             1.0   \n",
       "...          ...              ...          ...             ...   \n",
       "148          876                0         2868             0.0   \n",
       "1774        1088                0         2822             0.0   \n",
       "1672        1567                0         3500             1.0   \n",
       "1939           0                0         2338             1.0   \n",
       "1651           0                0         2364             1.0   \n",
       "\n",
       "      bsmt_half_bath  full_bath  half_bath  bedroom_abvgr  kitchen_abvgr  \\\n",
       "1608             0.0          1          0              2              1   \n",
       "180              0.0          1          0              2              1   \n",
       "1293             0.0          1          0              2              1   \n",
       "1277             0.0          1          0              1              1   \n",
       "1499             0.0          0          0              1              1   \n",
       "...              ...        ...        ...            ...            ...   \n",
       "148              0.0          3          1              4              1   \n",
       "1774             0.0          3          1              4              1   \n",
       "1672             0.0          3          1              4              1   \n",
       "1939             0.0          2          1              4              1   \n",
       "1651             0.0          2          1              2              1   \n",
       "\n",
       "     kitchen_qual  totrms_abvgrd functional  fireplaces garage_type  \\\n",
       "1608           TA              5        Typ           1      Detchd   \n",
       "180            Fa              4        Sal           0      Attchd   \n",
       "1293           TA              4        Typ           0        none   \n",
       "1277           TA              3        Typ           0      Detchd   \n",
       "1499           TA              4        Typ           0      Detchd   \n",
       "...           ...            ...        ...         ...         ...   \n",
       "148            Ex             11        Typ           1     BuiltIn   \n",
       "1774           Ex             12        Typ           1     BuiltIn   \n",
       "1672           Ex             11        Typ           1      Attchd   \n",
       "1939           Gd              8        Typ           2      Attchd   \n",
       "1651           Ex             11        Typ           2      Attchd   \n",
       "\n",
       "      garage_area  garage_qual paved_drive  wood_deck_sf  open_porch_sf  \\\n",
       "1608        780.0            2           N             0              0   \n",
       "180         487.0            2           N             0              0   \n",
       "1293          0.0            0           N             0            523   \n",
       "1277        216.0            2           N             0              0   \n",
       "1499        308.0            3           Y             0              0   \n",
       "...           ...          ...         ...           ...            ...   \n",
       "148         716.0            3           Y           214            108   \n",
       "1774       1020.0            3           Y            52            170   \n",
       "1672        959.0            3           Y           870             86   \n",
       "1939       1110.0            4           Y             0            135   \n",
       "1651        820.0            3           Y             0             67   \n",
       "\n",
       "      enclosed_porch  3ssn_porch  screen_porch  pool_area  misc_val  mo_sold  \\\n",
       "1608               0           0             0          0         0        6   \n",
       "180                0           0             0          0         0        2   \n",
       "1293             115           0             0          0         0       11   \n",
       "1277             100           0             0          0         0        2   \n",
       "1499               0           0             0          0         0       10   \n",
       "...              ...         ...           ...        ...       ...      ...   \n",
       "148                0           0             0          0         0        7   \n",
       "1774               0           0           192          0         0        1   \n",
       "1672               0           0           210          0         0        5   \n",
       "1939               0           0           322          0         0        6   \n",
       "1651               0           0             0          0         0        3   \n",
       "\n",
       "      yr_sold sale_type  saleprice  \n",
       "1608     2010       WD       12789  \n",
       "180      2008       WD       13100  \n",
       "1293     2009       WD       34900  \n",
       "1277     2006     ConLD      35000  \n",
       "1499     2006       WD       35311  \n",
       "...       ...       ...        ...  \n",
       "148      2006       New     556581  \n",
       "1774     2009       New     582933  \n",
       "1672     2006       WD      584500  \n",
       "1939     2007       New     591587  \n",
       "1651     2010       New     611657  \n",
       "\n",
       "[2026 rows x 62 columns]"
      ]
     },
     "execution_count": 7,
     "metadata": {},
     "output_type": "execute_result"
    }
   ],
   "source": [
    "# Our first look at sale price finds a positively skewed distribution.\n",
    "# There are some issues on either end of the distribution:\n",
    "# On the positive side there are a fairly large number of outliers, \n",
    "# and on the negative side there appear to be values <0 which should be removed:\n",
    "df.sort_values(by = 'saleprice')"
   ]
  },
  {
   "cell_type": "code",
   "execution_count": 8,
   "id": "3140e3c1",
   "metadata": {},
   "outputs": [
    {
     "data": {
      "image/png": "[encoded data removed]",
      "text/plain": [
       "<Figure size 576x360 with 1 Axes>"
      ]
     },
     "metadata": {
      "needs_background": "light"
     },
     "output_type": "display_data"
    }
   ],
   "source": [
    "# Sorting saleprice shows that in fact there are no negative values.\n",
    "# The low prices we see seem appropriate given the small sqf of these units (shown in 'gr_liv_area' feature )\n",
    "# However, the data dictionary indicates there are other outliers that may become visible when plotting saleprice vs gr_liv_area\n",
    "\n",
    "plt.figure(figsize=(8,5))\n",
    "sns.scatterplot(df['gr_liv_area'], df['saleprice'])\n",
    "plt.title('Sale Price vs SQF', weight = 'bold', size = 15);"
   ]
  },
  {
   "cell_type": "code",
   "execution_count": 9,
   "id": "d1d5c3d8",
   "metadata": {},
   "outputs": [],
   "source": [
    "# The data dictionary recommends removal of observations where gr_liv_area > 4000 sfq.\n",
    "# This is done here:\n",
    "df = df[df['gr_liv_area'] <= 4000]"
   ]
  },
  {
   "cell_type": "code",
   "execution_count": 10,
   "id": "3c4f0043",
   "metadata": {},
   "outputs": [
    {
     "data": {
      "image/png": "[encoded data removed]",
      "text/plain": [
       "<Figure size 576x360 with 1 Axes>"
      ]
     },
     "metadata": {
      "needs_background": "light"
     },
     "output_type": "display_data"
    }
   ],
   "source": [
    "# Reevaluating scatter plot\n",
    "plt.figure(figsize=(8,5))\n",
    "sns.scatterplot(df['gr_liv_area'], df['saleprice'])\n",
    "plt.title('Sale Price vs SQF', weight = 'bold', size = 15);\n",
    "\n",
    "# The outliers are removed although this plot suggests that saleprice is heterskedastic, as variance increases with sqf."
   ]
  },
  {
   "cell_type": "code",
   "execution_count": 11,
   "id": "2ee0dd74",
   "metadata": {},
   "outputs": [
    {
     "data": {
      "image/png": "[encoded data removed]",
      "text/plain": [
       "<Figure size 432x288 with 1 Axes>"
      ]
     },
     "metadata": {
      "needs_background": "light"
     },
     "output_type": "display_data"
    }
   ],
   "source": [
    "# Evaluating the log of saleprice:\n",
    "sns.boxplot(np.log(df['saleprice']))\n",
    "plt.title('Log of House Sale Price', weight = 'bold', size = 15)\n",
    "plt.xlabel('log(saleprice)');"
   ]
  },
  {
   "cell_type": "code",
   "execution_count": 12,
   "id": "d6618b1c",
   "metadata": {},
   "outputs": [
    {
     "data": {
      "image/png": "[encoded data removed]",
      "text/plain": [
       "<Figure size 576x360 with 1 Axes>"
      ]
     },
     "metadata": {
      "needs_background": "light"
     },
     "output_type": "display_data"
    }
   ],
   "source": [
    "plt.figure(figsize=(8,5))\n",
    "sns.scatterplot(df['gr_liv_area'], np.log(df['saleprice']))\n",
    "plt.title('Log of Sale Price vs SQF', weight = 'bold', size = 15)\n",
    "plt.ylabel('log(saleprice)');"
   ]
  },
  {
   "cell_type": "code",
   "execution_count": 13,
   "id": "3a2236d5",
   "metadata": {},
   "outputs": [
    {
     "data": {
      "text/plain": [
       "1608     9.456341\n",
       "180      9.480368\n",
       "1293    10.460242\n",
       "1277    10.463103\n",
       "1499    10.471950\n",
       "          ...    \n",
       "148     13.229568\n",
       "1774    13.275828\n",
       "1672    13.278512\n",
       "1939    13.290564\n",
       "1651    13.323927\n",
       "Name: saleprice, Length: 2024, dtype: float64"
      ]
     },
     "execution_count": 13,
     "metadata": {},
     "output_type": "execute_result"
    }
   ],
   "source": [
    "# Our log(saleprice) does seem to reduce heterskedasticity but a couple new outliers pop out.\n",
    "# These are the two observations with the lowest sale price that we saw above,\n",
    "# each being less than half the value of the 3rd lowest observed saleprice.\n",
    "np.log(df['saleprice']).sort_values()"
   ]
  },
  {
   "cell_type": "code",
   "execution_count": 14,
   "id": "8b9ad943",
   "metadata": {},
   "outputs": [],
   "source": [
    "# These two outliers are removed:\n",
    "df = df[np.log(df['saleprice']) > 10]"
   ]
  },
  {
   "cell_type": "code",
   "execution_count": 15,
   "id": "35ecd6fb",
   "metadata": {},
   "outputs": [
    {
     "data": {
      "image/png": "[encoded data removed]",
      "text/plain": [
       "<Figure size 576x360 with 1 Axes>"
      ]
     },
     "metadata": {
      "needs_background": "light"
     },
     "output_type": "display_data"
    }
   ],
   "source": [
    "# Reassessing distribution:\n",
    "plt.figure(figsize=(8,5))\n",
    "sns.distplot(np.log(df['saleprice']))\n",
    "plt.title('Log of House Sale Price', weight = 'bold', size = 15);"
   ]
  },
  {
   "cell_type": "code",
   "execution_count": 16,
   "id": "360cb4b1",
   "metadata": {},
   "outputs": [
    {
     "data": {
      "image/png": "[encoded data removed]",
      "text/plain": [
       "<Figure size 432x288 with 1 Axes>"
      ]
     },
     "metadata": {
      "needs_background": "light"
     },
     "output_type": "display_data"
    }
   ],
   "source": [
    "sns.boxplot(np.log(df['saleprice']))\n",
    "plt.title('Log of House Sale Price', weight = 'bold', size = 15)\n",
    "plt.xlabel('log(saleprice)');"
   ]
  },
  {
   "cell_type": "code",
   "execution_count": 17,
   "id": "b53378f7",
   "metadata": {},
   "outputs": [
    {
     "data": {
      "image/png": "[encoded data removed]",
      "text/plain": [
       "<Figure size 576x360 with 1 Axes>"
      ]
     },
     "metadata": {
      "needs_background": "light"
     },
     "output_type": "display_data"
    }
   ],
   "source": [
    "plt.figure(figsize=(8,5))\n",
    "sns.scatterplot(df['gr_liv_area'], np.log(df['saleprice']))\n",
    "plt.title('Log of Sale Price vs Above Ground SQF', weight = 'bold', size = 15)\n",
    "plt.ylabel('log(saleprice)');"
   ]
  },
  {
   "cell_type": "markdown",
   "id": "0aa8a2c1",
   "metadata": {},
   "source": [
    "Exploration of the target feature suggests the log of saleprice may perform better because it reduces heteroskedasticty and reels in some of the outliers. That said, there is still a fair amount of variance evident when plot log(saleprice) against gr_liv_area. As a result of these findings, in Part 3 I will prepare different models using both y and and log(y) at compare each model's performance metrics."
   ]
  },
  {
   "cell_type": "markdown",
   "id": "2ea91640",
   "metadata": {},
   "source": [
    "### Feature Exploration\n",
    "\n",
    "Determining which features to use when predicting saleprice is challenging because of the large number of categorical and ordinal features that don't lend themselves to correlation analysis. In this section I will treat numeric and non-numeric variables separately. The decision regarding which numeric variables to use will be largely driven by correlation analysis. Once identified, high-correlation variables will be supplmented by selected non-numeric variables, which will be hand-chosen based on general domain knowledge. This process may iterate as model performance metrics are evaluated, and we will also preserve a much larger number of features when regularization is employed, thus automating feature selection."
   ]
  },
  {
   "cell_type": "code",
   "execution_count": 18,
   "id": "7ce1f0c4",
   "metadata": {},
   "outputs": [
    {
     "data": {
      "text/html": [
       "<div>\n",
       "<style scoped>\n",
       "    .dataframe tbody tr th:only-of-type {\n",
       "        vertical-align: middle;\n",
       "    }\n",
       "\n",
       "    .dataframe tbody tr th {\n",
       "        vertical-align: top;\n",
       "    }\n",
       "\n",
       "    .dataframe thead th {\n",
       "        text-align: right;\n",
       "    }\n",
       "</style>\n",
       "<table border=\"1\" class=\"dataframe\">\n",
       "  <thead>\n",
       "    <tr style=\"text-align: right;\">\n",
       "      <th></th>\n",
       "      <th>lot_area</th>\n",
       "      <th>overall_qual</th>\n",
       "      <th>overall_cond</th>\n",
       "      <th>year_built</th>\n",
       "      <th>year_remod/add</th>\n",
       "      <th>mas_vnr_area</th>\n",
       "      <th>bsmtfin_type_1</th>\n",
       "      <th>total_bsmt_sf</th>\n",
       "      <th>1st_flr_sf</th>\n",
       "      <th>2nd_flr_sf</th>\n",
       "      <th>low_qual_fin_sf</th>\n",
       "      <th>gr_liv_area</th>\n",
       "      <th>bsmt_full_bath</th>\n",
       "      <th>bsmt_half_bath</th>\n",
       "      <th>full_bath</th>\n",
       "      <th>half_bath</th>\n",
       "      <th>bedroom_abvgr</th>\n",
       "      <th>kitchen_abvgr</th>\n",
       "      <th>totrms_abvgrd</th>\n",
       "      <th>fireplaces</th>\n",
       "      <th>garage_area</th>\n",
       "      <th>garage_qual</th>\n",
       "      <th>wood_deck_sf</th>\n",
       "      <th>open_porch_sf</th>\n",
       "      <th>enclosed_porch</th>\n",
       "      <th>3ssn_porch</th>\n",
       "      <th>screen_porch</th>\n",
       "      <th>pool_area</th>\n",
       "      <th>misc_val</th>\n",
       "      <th>mo_sold</th>\n",
       "      <th>yr_sold</th>\n",
       "      <th>saleprice</th>\n",
       "    </tr>\n",
       "  </thead>\n",
       "  <tbody>\n",
       "    <tr>\n",
       "      <th>0</th>\n",
       "      <td>13517</td>\n",
       "      <td>6</td>\n",
       "      <td>8</td>\n",
       "      <td>1976</td>\n",
       "      <td>2005</td>\n",
       "      <td>289.0</td>\n",
       "      <td>6</td>\n",
       "      <td>725.0</td>\n",
       "      <td>725</td>\n",
       "      <td>754</td>\n",
       "      <td>0</td>\n",
       "      <td>1479</td>\n",
       "      <td>0.0</td>\n",
       "      <td>0.0</td>\n",
       "      <td>2</td>\n",
       "      <td>1</td>\n",
       "      <td>3</td>\n",
       "      <td>1</td>\n",
       "      <td>6</td>\n",
       "      <td>0</td>\n",
       "      <td>475.0</td>\n",
       "      <td>3</td>\n",
       "      <td>0</td>\n",
       "      <td>44</td>\n",
       "      <td>0</td>\n",
       "      <td>0</td>\n",
       "      <td>0</td>\n",
       "      <td>0</td>\n",
       "      <td>0</td>\n",
       "      <td>3</td>\n",
       "      <td>2010</td>\n",
       "      <td>130500</td>\n",
       "    </tr>\n",
       "    <tr>\n",
       "      <th>1</th>\n",
       "      <td>11492</td>\n",
       "      <td>7</td>\n",
       "      <td>5</td>\n",
       "      <td>1996</td>\n",
       "      <td>1997</td>\n",
       "      <td>132.0</td>\n",
       "      <td>6</td>\n",
       "      <td>913.0</td>\n",
       "      <td>913</td>\n",
       "      <td>1209</td>\n",
       "      <td>0</td>\n",
       "      <td>2122</td>\n",
       "      <td>1.0</td>\n",
       "      <td>0.0</td>\n",
       "      <td>2</td>\n",
       "      <td>1</td>\n",
       "      <td>4</td>\n",
       "      <td>1</td>\n",
       "      <td>8</td>\n",
       "      <td>1</td>\n",
       "      <td>559.0</td>\n",
       "      <td>3</td>\n",
       "      <td>0</td>\n",
       "      <td>74</td>\n",
       "      <td>0</td>\n",
       "      <td>0</td>\n",
       "      <td>0</td>\n",
       "      <td>0</td>\n",
       "      <td>0</td>\n",
       "      <td>4</td>\n",
       "      <td>2009</td>\n",
       "      <td>220000</td>\n",
       "    </tr>\n",
       "    <tr>\n",
       "      <th>2</th>\n",
       "      <td>7922</td>\n",
       "      <td>5</td>\n",
       "      <td>7</td>\n",
       "      <td>1953</td>\n",
       "      <td>2007</td>\n",
       "      <td>0.0</td>\n",
       "      <td>6</td>\n",
       "      <td>1057.0</td>\n",
       "      <td>1057</td>\n",
       "      <td>0</td>\n",
       "      <td>0</td>\n",
       "      <td>1057</td>\n",
       "      <td>1.0</td>\n",
       "      <td>0.0</td>\n",
       "      <td>1</td>\n",
       "      <td>0</td>\n",
       "      <td>3</td>\n",
       "      <td>1</td>\n",
       "      <td>5</td>\n",
       "      <td>0</td>\n",
       "      <td>246.0</td>\n",
       "      <td>3</td>\n",
       "      <td>0</td>\n",
       "      <td>52</td>\n",
       "      <td>0</td>\n",
       "      <td>0</td>\n",
       "      <td>0</td>\n",
       "      <td>0</td>\n",
       "      <td>0</td>\n",
       "      <td>1</td>\n",
       "      <td>2010</td>\n",
       "      <td>109000</td>\n",
       "    </tr>\n",
       "    <tr>\n",
       "      <th>3</th>\n",
       "      <td>9802</td>\n",
       "      <td>5</td>\n",
       "      <td>5</td>\n",
       "      <td>2006</td>\n",
       "      <td>2007</td>\n",
       "      <td>0.0</td>\n",
       "      <td>1</td>\n",
       "      <td>384.0</td>\n",
       "      <td>744</td>\n",
       "      <td>700</td>\n",
       "      <td>0</td>\n",
       "      <td>1444</td>\n",
       "      <td>0.0</td>\n",
       "      <td>0.0</td>\n",
       "      <td>2</td>\n",
       "      <td>1</td>\n",
       "      <td>3</td>\n",
       "      <td>1</td>\n",
       "      <td>7</td>\n",
       "      <td>0</td>\n",
       "      <td>400.0</td>\n",
       "      <td>3</td>\n",
       "      <td>100</td>\n",
       "      <td>0</td>\n",
       "      <td>0</td>\n",
       "      <td>0</td>\n",
       "      <td>0</td>\n",
       "      <td>0</td>\n",
       "      <td>0</td>\n",
       "      <td>4</td>\n",
       "      <td>2010</td>\n",
       "      <td>174000</td>\n",
       "    </tr>\n",
       "    <tr>\n",
       "      <th>4</th>\n",
       "      <td>14235</td>\n",
       "      <td>6</td>\n",
       "      <td>8</td>\n",
       "      <td>1900</td>\n",
       "      <td>1993</td>\n",
       "      <td>0.0</td>\n",
       "      <td>1</td>\n",
       "      <td>676.0</td>\n",
       "      <td>831</td>\n",
       "      <td>614</td>\n",
       "      <td>0</td>\n",
       "      <td>1445</td>\n",
       "      <td>0.0</td>\n",
       "      <td>0.0</td>\n",
       "      <td>2</td>\n",
       "      <td>0</td>\n",
       "      <td>3</td>\n",
       "      <td>1</td>\n",
       "      <td>6</td>\n",
       "      <td>0</td>\n",
       "      <td>484.0</td>\n",
       "      <td>3</td>\n",
       "      <td>0</td>\n",
       "      <td>59</td>\n",
       "      <td>0</td>\n",
       "      <td>0</td>\n",
       "      <td>0</td>\n",
       "      <td>0</td>\n",
       "      <td>0</td>\n",
       "      <td>3</td>\n",
       "      <td>2010</td>\n",
       "      <td>138500</td>\n",
       "    </tr>\n",
       "  </tbody>\n",
       "</table>\n",
       "</div>"
      ],
      "text/plain": [
       "   lot_area  overall_qual  overall_cond  year_built  year_remod/add  \\\n",
       "0     13517             6             8        1976            2005   \n",
       "1     11492             7             5        1996            1997   \n",
       "2      7922             5             7        1953            2007   \n",
       "3      9802             5             5        2006            2007   \n",
       "4     14235             6             8        1900            1993   \n",
       "\n",
       "   mas_vnr_area  bsmtfin_type_1  total_bsmt_sf  1st_flr_sf  2nd_flr_sf  \\\n",
       "0         289.0               6          725.0         725         754   \n",
       "1         132.0               6          913.0         913        1209   \n",
       "2           0.0               6         1057.0        1057           0   \n",
       "3           0.0               1          384.0         744         700   \n",
       "4           0.0               1          676.0         831         614   \n",
       "\n",
       "   low_qual_fin_sf  gr_liv_area  bsmt_full_bath  bsmt_half_bath  full_bath  \\\n",
       "0                0         1479             0.0             0.0          2   \n",
       "1                0         2122             1.0             0.0          2   \n",
       "2                0         1057             1.0             0.0          1   \n",
       "3                0         1444             0.0             0.0          2   \n",
       "4                0         1445             0.0             0.0          2   \n",
       "\n",
       "   half_bath  bedroom_abvgr  kitchen_abvgr  totrms_abvgrd  fireplaces  \\\n",
       "0          1              3              1              6           0   \n",
       "1          1              4              1              8           1   \n",
       "2          0              3              1              5           0   \n",
       "3          1              3              1              7           0   \n",
       "4          0              3              1              6           0   \n",
       "\n",
       "   garage_area  garage_qual  wood_deck_sf  open_porch_sf  enclosed_porch  \\\n",
       "0        475.0            3             0             44               0   \n",
       "1        559.0            3             0             74               0   \n",
       "2        246.0            3             0             52               0   \n",
       "3        400.0            3           100              0               0   \n",
       "4        484.0            3             0             59               0   \n",
       "\n",
       "   3ssn_porch  screen_porch  pool_area  misc_val  mo_sold  yr_sold  saleprice  \n",
       "0           0             0          0         0        3     2010     130500  \n",
       "1           0             0          0         0        4     2009     220000  \n",
       "2           0             0          0         0        1     2010     109000  \n",
       "3           0             0          0         0        4     2010     174000  \n",
       "4           0             0          0         0        3     2010     138500  "
      ]
     },
     "execution_count": 18,
     "metadata": {},
     "output_type": "execute_result"
    }
   ],
   "source": [
    "# Here I define a dataframe for numeric and non-numeric features.\n",
    "# Technically there are ordinal features that should be considered non-numeric but I still want to see if there is any correlation\n",
    "# associated with the ordinal values.\n",
    "# However, ms_subclass is a code refering to different building types, and should be treated as non-numeric.\n",
    "df_numeric = df.select_dtypes(include= np.number).drop(columns='ms_subclass')\n",
    "df_numeric.head()"
   ]
  },
  {
   "cell_type": "code",
   "execution_count": 19,
   "id": "79ebaf42",
   "metadata": {},
   "outputs": [
    {
     "data": {
      "text/html": [
       "<div>\n",
       "<style scoped>\n",
       "    .dataframe tbody tr th:only-of-type {\n",
       "        vertical-align: middle;\n",
       "    }\n",
       "\n",
       "    .dataframe tbody tr th {\n",
       "        vertical-align: top;\n",
       "    }\n",
       "\n",
       "    .dataframe thead th {\n",
       "        text-align: right;\n",
       "    }\n",
       "</style>\n",
       "<table border=\"1\" class=\"dataframe\">\n",
       "  <thead>\n",
       "    <tr style=\"text-align: right;\">\n",
       "      <th></th>\n",
       "      <th>ms_zoning</th>\n",
       "      <th>street</th>\n",
       "      <th>lot_shape</th>\n",
       "      <th>land_contour</th>\n",
       "      <th>utilities</th>\n",
       "      <th>lot_config</th>\n",
       "      <th>land_slope</th>\n",
       "      <th>neighborhood</th>\n",
       "      <th>condition_1</th>\n",
       "      <th>condition_2</th>\n",
       "      <th>bldg_type</th>\n",
       "      <th>house_style</th>\n",
       "      <th>roof_style</th>\n",
       "      <th>roof_matl</th>\n",
       "      <th>exterior_1st</th>\n",
       "      <th>exterior_2nd</th>\n",
       "      <th>mas_vnr_type</th>\n",
       "      <th>exter_qual</th>\n",
       "      <th>exter_cond</th>\n",
       "      <th>foundation</th>\n",
       "      <th>heating</th>\n",
       "      <th>heating_qc</th>\n",
       "      <th>central_air</th>\n",
       "      <th>electrical</th>\n",
       "      <th>kitchen_qual</th>\n",
       "      <th>functional</th>\n",
       "      <th>garage_type</th>\n",
       "      <th>paved_drive</th>\n",
       "      <th>sale_type</th>\n",
       "      <th>ms_subclass</th>\n",
       "    </tr>\n",
       "  </thead>\n",
       "  <tbody>\n",
       "    <tr>\n",
       "      <th>0</th>\n",
       "      <td>RL</td>\n",
       "      <td>Pave</td>\n",
       "      <td>IR1</td>\n",
       "      <td>Lvl</td>\n",
       "      <td>AllPub</td>\n",
       "      <td>CulDSac</td>\n",
       "      <td>Gtl</td>\n",
       "      <td>Sawyer</td>\n",
       "      <td>RRAe</td>\n",
       "      <td>Norm</td>\n",
       "      <td>1Fam</td>\n",
       "      <td>2Story</td>\n",
       "      <td>Gable</td>\n",
       "      <td>CompShg</td>\n",
       "      <td>HdBoard</td>\n",
       "      <td>Plywood</td>\n",
       "      <td>BrkFace</td>\n",
       "      <td>Gd</td>\n",
       "      <td>TA</td>\n",
       "      <td>CBlock</td>\n",
       "      <td>GasA</td>\n",
       "      <td>Ex</td>\n",
       "      <td>Y</td>\n",
       "      <td>SBrkr</td>\n",
       "      <td>Gd</td>\n",
       "      <td>Typ</td>\n",
       "      <td>Attchd</td>\n",
       "      <td>Y</td>\n",
       "      <td>WD</td>\n",
       "      <td>60</td>\n",
       "    </tr>\n",
       "    <tr>\n",
       "      <th>1</th>\n",
       "      <td>RL</td>\n",
       "      <td>Pave</td>\n",
       "      <td>IR1</td>\n",
       "      <td>Lvl</td>\n",
       "      <td>AllPub</td>\n",
       "      <td>CulDSac</td>\n",
       "      <td>Gtl</td>\n",
       "      <td>SawyerW</td>\n",
       "      <td>Norm</td>\n",
       "      <td>Norm</td>\n",
       "      <td>1Fam</td>\n",
       "      <td>2Story</td>\n",
       "      <td>Gable</td>\n",
       "      <td>CompShg</td>\n",
       "      <td>VinylSd</td>\n",
       "      <td>VinylSd</td>\n",
       "      <td>BrkFace</td>\n",
       "      <td>Gd</td>\n",
       "      <td>TA</td>\n",
       "      <td>PConc</td>\n",
       "      <td>GasA</td>\n",
       "      <td>Ex</td>\n",
       "      <td>Y</td>\n",
       "      <td>SBrkr</td>\n",
       "      <td>Gd</td>\n",
       "      <td>Typ</td>\n",
       "      <td>Attchd</td>\n",
       "      <td>Y</td>\n",
       "      <td>WD</td>\n",
       "      <td>60</td>\n",
       "    </tr>\n",
       "    <tr>\n",
       "      <th>2</th>\n",
       "      <td>RL</td>\n",
       "      <td>Pave</td>\n",
       "      <td>Reg</td>\n",
       "      <td>Lvl</td>\n",
       "      <td>AllPub</td>\n",
       "      <td>Inside</td>\n",
       "      <td>Gtl</td>\n",
       "      <td>NAmes</td>\n",
       "      <td>Norm</td>\n",
       "      <td>Norm</td>\n",
       "      <td>1Fam</td>\n",
       "      <td>1Story</td>\n",
       "      <td>Gable</td>\n",
       "      <td>CompShg</td>\n",
       "      <td>VinylSd</td>\n",
       "      <td>VinylSd</td>\n",
       "      <td>None</td>\n",
       "      <td>TA</td>\n",
       "      <td>Gd</td>\n",
       "      <td>CBlock</td>\n",
       "      <td>GasA</td>\n",
       "      <td>TA</td>\n",
       "      <td>Y</td>\n",
       "      <td>SBrkr</td>\n",
       "      <td>Gd</td>\n",
       "      <td>Typ</td>\n",
       "      <td>Detchd</td>\n",
       "      <td>Y</td>\n",
       "      <td>WD</td>\n",
       "      <td>20</td>\n",
       "    </tr>\n",
       "    <tr>\n",
       "      <th>3</th>\n",
       "      <td>RL</td>\n",
       "      <td>Pave</td>\n",
       "      <td>Reg</td>\n",
       "      <td>Lvl</td>\n",
       "      <td>AllPub</td>\n",
       "      <td>Inside</td>\n",
       "      <td>Gtl</td>\n",
       "      <td>Timber</td>\n",
       "      <td>Norm</td>\n",
       "      <td>Norm</td>\n",
       "      <td>1Fam</td>\n",
       "      <td>2Story</td>\n",
       "      <td>Gable</td>\n",
       "      <td>CompShg</td>\n",
       "      <td>VinylSd</td>\n",
       "      <td>VinylSd</td>\n",
       "      <td>None</td>\n",
       "      <td>TA</td>\n",
       "      <td>TA</td>\n",
       "      <td>PConc</td>\n",
       "      <td>GasA</td>\n",
       "      <td>Gd</td>\n",
       "      <td>Y</td>\n",
       "      <td>SBrkr</td>\n",
       "      <td>TA</td>\n",
       "      <td>Typ</td>\n",
       "      <td>BuiltIn</td>\n",
       "      <td>Y</td>\n",
       "      <td>WD</td>\n",
       "      <td>60</td>\n",
       "    </tr>\n",
       "    <tr>\n",
       "      <th>4</th>\n",
       "      <td>RL</td>\n",
       "      <td>Pave</td>\n",
       "      <td>IR1</td>\n",
       "      <td>Lvl</td>\n",
       "      <td>AllPub</td>\n",
       "      <td>Inside</td>\n",
       "      <td>Gtl</td>\n",
       "      <td>SawyerW</td>\n",
       "      <td>Norm</td>\n",
       "      <td>Norm</td>\n",
       "      <td>1Fam</td>\n",
       "      <td>1.5Fin</td>\n",
       "      <td>Gable</td>\n",
       "      <td>CompShg</td>\n",
       "      <td>Wd Sdng</td>\n",
       "      <td>Plywood</td>\n",
       "      <td>None</td>\n",
       "      <td>TA</td>\n",
       "      <td>TA</td>\n",
       "      <td>PConc</td>\n",
       "      <td>GasA</td>\n",
       "      <td>TA</td>\n",
       "      <td>Y</td>\n",
       "      <td>SBrkr</td>\n",
       "      <td>TA</td>\n",
       "      <td>Typ</td>\n",
       "      <td>Detchd</td>\n",
       "      <td>N</td>\n",
       "      <td>WD</td>\n",
       "      <td>50</td>\n",
       "    </tr>\n",
       "  </tbody>\n",
       "</table>\n",
       "</div>"
      ],
      "text/plain": [
       "  ms_zoning street lot_shape land_contour utilities lot_config land_slope  \\\n",
       "0        RL   Pave       IR1          Lvl    AllPub    CulDSac        Gtl   \n",
       "1        RL   Pave       IR1          Lvl    AllPub    CulDSac        Gtl   \n",
       "2        RL   Pave       Reg          Lvl    AllPub     Inside        Gtl   \n",
       "3        RL   Pave       Reg          Lvl    AllPub     Inside        Gtl   \n",
       "4        RL   Pave       IR1          Lvl    AllPub     Inside        Gtl   \n",
       "\n",
       "  neighborhood condition_1 condition_2 bldg_type house_style roof_style  \\\n",
       "0       Sawyer        RRAe        Norm      1Fam      2Story      Gable   \n",
       "1      SawyerW        Norm        Norm      1Fam      2Story      Gable   \n",
       "2        NAmes        Norm        Norm      1Fam      1Story      Gable   \n",
       "3       Timber        Norm        Norm      1Fam      2Story      Gable   \n",
       "4      SawyerW        Norm        Norm      1Fam      1.5Fin      Gable   \n",
       "\n",
       "  roof_matl exterior_1st exterior_2nd mas_vnr_type exter_qual exter_cond  \\\n",
       "0   CompShg      HdBoard      Plywood      BrkFace         Gd         TA   \n",
       "1   CompShg      VinylSd      VinylSd      BrkFace         Gd         TA   \n",
       "2   CompShg      VinylSd      VinylSd         None         TA         Gd   \n",
       "3   CompShg      VinylSd      VinylSd         None         TA         TA   \n",
       "4   CompShg      Wd Sdng      Plywood         None         TA         TA   \n",
       "\n",
       "  foundation heating heating_qc central_air electrical kitchen_qual  \\\n",
       "0     CBlock    GasA         Ex           Y      SBrkr           Gd   \n",
       "1      PConc    GasA         Ex           Y      SBrkr           Gd   \n",
       "2     CBlock    GasA         TA           Y      SBrkr           Gd   \n",
       "3      PConc    GasA         Gd           Y      SBrkr           TA   \n",
       "4      PConc    GasA         TA           Y      SBrkr           TA   \n",
       "\n",
       "  functional garage_type paved_drive sale_type  ms_subclass  \n",
       "0        Typ      Attchd           Y       WD            60  \n",
       "1        Typ      Attchd           Y       WD            60  \n",
       "2        Typ      Detchd           Y       WD            20  \n",
       "3        Typ     BuiltIn           Y       WD            60  \n",
       "4        Typ      Detchd           N       WD            50  "
      ]
     },
     "execution_count": 19,
     "metadata": {},
     "output_type": "execute_result"
    }
   ],
   "source": [
    "df_non_numeric = df.select_dtypes(exclude= np.number)\n",
    "df_non_numeric['ms_subclass'] = df['ms_subclass']\n",
    "df_non_numeric.head()"
   ]
  },
  {
   "cell_type": "code",
   "execution_count": 20,
   "id": "2c707425",
   "metadata": {},
   "outputs": [
    {
     "data": {
      "text/html": [
       "<div>\n",
       "<style scoped>\n",
       "    .dataframe tbody tr th:only-of-type {\n",
       "        vertical-align: middle;\n",
       "    }\n",
       "\n",
       "    .dataframe tbody tr th {\n",
       "        vertical-align: top;\n",
       "    }\n",
       "\n",
       "    .dataframe thead th {\n",
       "        text-align: right;\n",
       "    }\n",
       "</style>\n",
       "<table border=\"1\" class=\"dataframe\">\n",
       "  <thead>\n",
       "    <tr style=\"text-align: right;\">\n",
       "      <th></th>\n",
       "      <th>saleprice</th>\n",
       "    </tr>\n",
       "  </thead>\n",
       "  <tbody>\n",
       "    <tr>\n",
       "      <th>saleprice</th>\n",
       "      <td>1.000000</td>\n",
       "    </tr>\n",
       "    <tr>\n",
       "      <th>overall_qual</th>\n",
       "      <td>0.802481</td>\n",
       "    </tr>\n",
       "    <tr>\n",
       "      <th>gr_liv_area</th>\n",
       "      <td>0.721223</td>\n",
       "    </tr>\n",
       "    <tr>\n",
       "      <th>total_bsmt_sf</th>\n",
       "      <td>0.667614</td>\n",
       "    </tr>\n",
       "    <tr>\n",
       "      <th>garage_area</th>\n",
       "      <td>0.657274</td>\n",
       "    </tr>\n",
       "    <tr>\n",
       "      <th>1st_flr_sf</th>\n",
       "      <td>0.654372</td>\n",
       "    </tr>\n",
       "    <tr>\n",
       "      <th>year_built</th>\n",
       "      <td>0.571759</td>\n",
       "    </tr>\n",
       "    <tr>\n",
       "      <th>year_remod/add</th>\n",
       "      <td>0.549210</td>\n",
       "    </tr>\n",
       "    <tr>\n",
       "      <th>full_bath</th>\n",
       "      <td>0.538030</td>\n",
       "    </tr>\n",
       "    <tr>\n",
       "      <th>mas_vnr_area</th>\n",
       "      <td>0.520544</td>\n",
       "    </tr>\n",
       "    <tr>\n",
       "      <th>totrms_abvgrd</th>\n",
       "      <td>0.509942</td>\n",
       "    </tr>\n",
       "    <tr>\n",
       "      <th>fireplaces</th>\n",
       "      <td>0.474854</td>\n",
       "    </tr>\n",
       "    <tr>\n",
       "      <th>bsmtfin_type_1</th>\n",
       "      <td>0.351224</td>\n",
       "    </tr>\n",
       "    <tr>\n",
       "      <th>open_porch_sf</th>\n",
       "      <td>0.330042</td>\n",
       "    </tr>\n",
       "    <tr>\n",
       "      <th>wood_deck_sf</th>\n",
       "      <td>0.329153</td>\n",
       "    </tr>\n",
       "    <tr>\n",
       "      <th>lot_area</th>\n",
       "      <td>0.304531</td>\n",
       "    </tr>\n",
       "    <tr>\n",
       "      <th>bsmt_full_bath</th>\n",
       "      <td>0.284628</td>\n",
       "    </tr>\n",
       "    <tr>\n",
       "      <th>garage_qual</th>\n",
       "      <td>0.283925</td>\n",
       "    </tr>\n",
       "    <tr>\n",
       "      <th>half_bath</th>\n",
       "      <td>0.278004</td>\n",
       "    </tr>\n",
       "    <tr>\n",
       "      <th>2nd_flr_sf</th>\n",
       "      <td>0.250335</td>\n",
       "    </tr>\n",
       "    <tr>\n",
       "      <th>screen_porch</th>\n",
       "      <td>0.137481</td>\n",
       "    </tr>\n",
       "    <tr>\n",
       "      <th>bedroom_abvgr</th>\n",
       "      <td>0.136650</td>\n",
       "    </tr>\n",
       "    <tr>\n",
       "      <th>3ssn_porch</th>\n",
       "      <td>0.049749</td>\n",
       "    </tr>\n",
       "    <tr>\n",
       "      <th>pool_area</th>\n",
       "      <td>0.026375</td>\n",
       "    </tr>\n",
       "    <tr>\n",
       "      <th>mo_sold</th>\n",
       "      <td>0.024346</td>\n",
       "    </tr>\n",
       "    <tr>\n",
       "      <th>yr_sold</th>\n",
       "      <td>-0.009090</td>\n",
       "    </tr>\n",
       "    <tr>\n",
       "      <th>misc_val</th>\n",
       "      <td>-0.009921</td>\n",
       "    </tr>\n",
       "    <tr>\n",
       "      <th>low_qual_fin_sf</th>\n",
       "      <td>-0.041487</td>\n",
       "    </tr>\n",
       "    <tr>\n",
       "      <th>bsmt_half_bath</th>\n",
       "      <td>-0.044740</td>\n",
       "    </tr>\n",
       "    <tr>\n",
       "      <th>overall_cond</th>\n",
       "      <td>-0.098706</td>\n",
       "    </tr>\n",
       "    <tr>\n",
       "      <th>kitchen_abvgr</th>\n",
       "      <td>-0.126976</td>\n",
       "    </tr>\n",
       "    <tr>\n",
       "      <th>enclosed_porch</th>\n",
       "      <td>-0.139216</td>\n",
       "    </tr>\n",
       "  </tbody>\n",
       "</table>\n",
       "</div>"
      ],
      "text/plain": [
       "                 saleprice\n",
       "saleprice         1.000000\n",
       "overall_qual      0.802481\n",
       "gr_liv_area       0.721223\n",
       "total_bsmt_sf     0.667614\n",
       "garage_area       0.657274\n",
       "1st_flr_sf        0.654372\n",
       "year_built        0.571759\n",
       "year_remod/add    0.549210\n",
       "full_bath         0.538030\n",
       "mas_vnr_area      0.520544\n",
       "totrms_abvgrd     0.509942\n",
       "fireplaces        0.474854\n",
       "bsmtfin_type_1    0.351224\n",
       "open_porch_sf     0.330042\n",
       "wood_deck_sf      0.329153\n",
       "lot_area          0.304531\n",
       "bsmt_full_bath    0.284628\n",
       "garage_qual       0.283925\n",
       "half_bath         0.278004\n",
       "2nd_flr_sf        0.250335\n",
       "screen_porch      0.137481\n",
       "bedroom_abvgr     0.136650\n",
       "3ssn_porch        0.049749\n",
       "pool_area         0.026375\n",
       "mo_sold           0.024346\n",
       "yr_sold          -0.009090\n",
       "misc_val         -0.009921\n",
       "low_qual_fin_sf  -0.041487\n",
       "bsmt_half_bath   -0.044740\n",
       "overall_cond     -0.098706\n",
       "kitchen_abvgr    -0.126976\n",
       "enclosed_porch   -0.139216"
      ]
     },
     "execution_count": 20,
     "metadata": {},
     "output_type": "execute_result"
    }
   ],
   "source": [
    "# Here we begin a correlation analysis with numeric features. \n",
    "# Note, however, that year should not be included as numeric so its correlation coefficients may be uninterpretable.\n",
    "# Year-features will be converted into buckets and one-hot encoded later.\n",
    "df_numeric.corr()[['saleprice']].sort_values(by='saleprice', ascending=False)"
   ]
  },
  {
   "cell_type": "code",
   "execution_count": 21,
   "id": "69a080ef",
   "metadata": {},
   "outputs": [
    {
     "data": {
      "text/html": [
       "<div>\n",
       "<style scoped>\n",
       "    .dataframe tbody tr th:only-of-type {\n",
       "        vertical-align: middle;\n",
       "    }\n",
       "\n",
       "    .dataframe tbody tr th {\n",
       "        vertical-align: top;\n",
       "    }\n",
       "\n",
       "    .dataframe thead th {\n",
       "        text-align: right;\n",
       "    }\n",
       "</style>\n",
       "<table border=\"1\" class=\"dataframe\">\n",
       "  <thead>\n",
       "    <tr style=\"text-align: right;\">\n",
       "      <th></th>\n",
       "      <th>saleprice</th>\n",
       "    </tr>\n",
       "  </thead>\n",
       "  <tbody>\n",
       "    <tr>\n",
       "      <th>saleprice</th>\n",
       "      <td>1.000000</td>\n",
       "    </tr>\n",
       "    <tr>\n",
       "      <th>overall_qual</th>\n",
       "      <td>0.802481</td>\n",
       "    </tr>\n",
       "    <tr>\n",
       "      <th>gr_liv_area</th>\n",
       "      <td>0.721223</td>\n",
       "    </tr>\n",
       "    <tr>\n",
       "      <th>total_bsmt_sf</th>\n",
       "      <td>0.667614</td>\n",
       "    </tr>\n",
       "    <tr>\n",
       "      <th>garage_area</th>\n",
       "      <td>0.657274</td>\n",
       "    </tr>\n",
       "    <tr>\n",
       "      <th>1st_flr_sf</th>\n",
       "      <td>0.654372</td>\n",
       "    </tr>\n",
       "    <tr>\n",
       "      <th>year_built</th>\n",
       "      <td>0.571759</td>\n",
       "    </tr>\n",
       "    <tr>\n",
       "      <th>year_remod/add</th>\n",
       "      <td>0.549210</td>\n",
       "    </tr>\n",
       "    <tr>\n",
       "      <th>full_bath</th>\n",
       "      <td>0.538030</td>\n",
       "    </tr>\n",
       "    <tr>\n",
       "      <th>mas_vnr_area</th>\n",
       "      <td>0.520544</td>\n",
       "    </tr>\n",
       "    <tr>\n",
       "      <th>totrms_abvgrd</th>\n",
       "      <td>0.509942</td>\n",
       "    </tr>\n",
       "    <tr>\n",
       "      <th>fireplaces</th>\n",
       "      <td>0.474854</td>\n",
       "    </tr>\n",
       "    <tr>\n",
       "      <th>bsmtfin_type_1</th>\n",
       "      <td>0.351224</td>\n",
       "    </tr>\n",
       "    <tr>\n",
       "      <th>open_porch_sf</th>\n",
       "      <td>0.330042</td>\n",
       "    </tr>\n",
       "    <tr>\n",
       "      <th>wood_deck_sf</th>\n",
       "      <td>0.329153</td>\n",
       "    </tr>\n",
       "    <tr>\n",
       "      <th>lot_area</th>\n",
       "      <td>0.304531</td>\n",
       "    </tr>\n",
       "    <tr>\n",
       "      <th>bsmt_full_bath</th>\n",
       "      <td>0.284628</td>\n",
       "    </tr>\n",
       "    <tr>\n",
       "      <th>garage_qual</th>\n",
       "      <td>0.283925</td>\n",
       "    </tr>\n",
       "    <tr>\n",
       "      <th>half_bath</th>\n",
       "      <td>0.278004</td>\n",
       "    </tr>\n",
       "    <tr>\n",
       "      <th>2nd_flr_sf</th>\n",
       "      <td>0.250335</td>\n",
       "    </tr>\n",
       "    <tr>\n",
       "      <th>screen_porch</th>\n",
       "      <td>0.137481</td>\n",
       "    </tr>\n",
       "    <tr>\n",
       "      <th>bedroom_abvgr</th>\n",
       "      <td>0.136650</td>\n",
       "    </tr>\n",
       "    <tr>\n",
       "      <th>3ssn_porch</th>\n",
       "      <td>0.049749</td>\n",
       "    </tr>\n",
       "    <tr>\n",
       "      <th>pool_area</th>\n",
       "      <td>0.026375</td>\n",
       "    </tr>\n",
       "    <tr>\n",
       "      <th>mo_sold</th>\n",
       "      <td>0.024346</td>\n",
       "    </tr>\n",
       "    <tr>\n",
       "      <th>yr_sold</th>\n",
       "      <td>-0.009090</td>\n",
       "    </tr>\n",
       "    <tr>\n",
       "      <th>misc_val</th>\n",
       "      <td>-0.009921</td>\n",
       "    </tr>\n",
       "    <tr>\n",
       "      <th>low_qual_fin_sf</th>\n",
       "      <td>-0.041487</td>\n",
       "    </tr>\n",
       "    <tr>\n",
       "      <th>bsmt_half_bath</th>\n",
       "      <td>-0.044740</td>\n",
       "    </tr>\n",
       "    <tr>\n",
       "      <th>overall_cond</th>\n",
       "      <td>-0.098706</td>\n",
       "    </tr>\n",
       "    <tr>\n",
       "      <th>kitchen_abvgr</th>\n",
       "      <td>-0.126976</td>\n",
       "    </tr>\n",
       "    <tr>\n",
       "      <th>enclosed_porch</th>\n",
       "      <td>-0.139216</td>\n",
       "    </tr>\n",
       "  </tbody>\n",
       "</table>\n",
       "</div>"
      ],
      "text/plain": [
       "                 saleprice\n",
       "saleprice         1.000000\n",
       "overall_qual      0.802481\n",
       "gr_liv_area       0.721223\n",
       "total_bsmt_sf     0.667614\n",
       "garage_area       0.657274\n",
       "1st_flr_sf        0.654372\n",
       "year_built        0.571759\n",
       "year_remod/add    0.549210\n",
       "full_bath         0.538030\n",
       "mas_vnr_area      0.520544\n",
       "totrms_abvgrd     0.509942\n",
       "fireplaces        0.474854\n",
       "bsmtfin_type_1    0.351224\n",
       "open_porch_sf     0.330042\n",
       "wood_deck_sf      0.329153\n",
       "lot_area          0.304531\n",
       "bsmt_full_bath    0.284628\n",
       "garage_qual       0.283925\n",
       "half_bath         0.278004\n",
       "2nd_flr_sf        0.250335\n",
       "screen_porch      0.137481\n",
       "bedroom_abvgr     0.136650\n",
       "3ssn_porch        0.049749\n",
       "pool_area         0.026375\n",
       "mo_sold           0.024346\n",
       "yr_sold          -0.009090\n",
       "misc_val         -0.009921\n",
       "low_qual_fin_sf  -0.041487\n",
       "bsmt_half_bath   -0.044740\n",
       "overall_cond     -0.098706\n",
       "kitchen_abvgr    -0.126976\n",
       "enclosed_porch   -0.139216"
      ]
     },
     "execution_count": 21,
     "metadata": {},
     "output_type": "execute_result"
    }
   ],
   "source": [
    "# We can see that there are no features with a strong negative correlation with price \n",
    "# so we will only consider positive correlations.\n",
    "# We will look more closely at features whose Pearson correlation with saleprice is > 0.25\n",
    "df_numeric.corr()[['saleprice']].sort_values(by='saleprice',ascending=False)"
   ]
  },
  {
   "cell_type": "code",
   "execution_count": 22,
   "id": "25f75ea5",
   "metadata": {},
   "outputs": [],
   "source": [
    "# Here I create a list of features in df_numeric that have > 25% correlation with saleprice.\n",
    "\n",
    "corr_over_25_perc = []\n",
    "\n",
    "for column in df_numeric.columns:\n",
    "    if stats.pearsonr(df_numeric['saleprice'], df_numeric[column])[0] > 0.25:\n",
    "        corr_over_25_perc.append(column)\n",
    "\n",
    "# Defintion of new dataframe looking only at highly correlated numeric features\n",
    "df_numeric_high_cor = df_numeric[corr_over_25_perc]"
   ]
  },
  {
   "cell_type": "code",
   "execution_count": 23,
   "id": "2a8f24a5",
   "metadata": {},
   "outputs": [
    {
     "data": {
      "text/plain": [
       "<AxesSubplot:>"
      ]
     },
     "execution_count": 23,
     "metadata": {},
     "output_type": "execute_result"
    },
    {
     "data": {
      "image/png": "[encoded data removed]",
      "text/plain": [
       "<Figure size 1080x720 with 2 Axes>"
      ]
     },
     "metadata": {
      "needs_background": "light"
     },
     "output_type": "display_data"
    }
   ],
   "source": [
    "# This code produces a correlation heatmap that can help identify collinearity between our numeric features.\n",
    "plt.figure(figsize=(15,10))\n",
    "sns.heatmap(df_numeric_high_cor.corr(), annot=True, cmap = 'coolwarm', vmin = -1)"
   ]
  },
  {
   "cell_type": "code",
   "execution_count": 24,
   "id": "3ccbfcc0",
   "metadata": {
    "scrolled": false
   },
   "outputs": [
    {
     "data": {
      "text/plain": [
       "lot_area            int64\n",
       "overall_qual        int64\n",
       "year_built          int64\n",
       "year_remod/add      int64\n",
       "mas_vnr_area      float64\n",
       "bsmtfin_type_1      int64\n",
       "total_bsmt_sf     float64\n",
       "1st_flr_sf          int64\n",
       "2nd_flr_sf          int64\n",
       "gr_liv_area         int64\n",
       "bsmt_full_bath    float64\n",
       "full_bath           int64\n",
       "half_bath           int64\n",
       "totrms_abvgrd       int64\n",
       "fireplaces          int64\n",
       "garage_area       float64\n",
       "garage_qual         int64\n",
       "wood_deck_sf        int64\n",
       "open_porch_sf       int64\n",
       "saleprice           int64\n",
       "dtype: object"
      ]
     },
     "execution_count": 24,
     "metadata": {},
     "output_type": "execute_result"
    }
   ],
   "source": [
    "df_numeric_high_cor.dtypes"
   ]
  },
  {
   "cell_type": "code",
   "execution_count": 25,
   "id": "28992ec4",
   "metadata": {},
   "outputs": [],
   "source": [
    "# The heatmap shows that collinearity between numeric features is not a major issue in this dataset.\n",
    "# There are only two instances where pearson_r > 0.8 for exaplanatory varaibles:\n",
    "# For stats.pearson_r(1st_flr_sf, total_bsmt_sf) and for stats.pearson_r(totrms_abvgrd, gr_liv_area)\n",
    "# Here, I remove total_bsmt_sf and totrms_abvgrd, and as well I remove oridnal and year variables, as these one-hot encoded below\n",
    "df_numeric_model = df_numeric_high_cor.drop(columns=['bsmtfin_type_1','garage_qual', 'overall_qual'])"
   ]
  },
  {
   "cell_type": "code",
   "execution_count": 26,
   "id": "c9943232",
   "metadata": {
    "scrolled": true
   },
   "outputs": [],
   "source": [
    "# Finally, I convert year_built and year_remod/add to 'age' and years since last renovation, called 'years_reno':\n",
    "df_numeric_model['age'] = df['yr_sold'] - df['year_built']\n",
    "df_numeric_model['years_reno'] = df['yr_sold'] - df['year_remod/add']\n",
    "\n",
    "# And I drop the original year variables:\n",
    "df_numeric_model.drop(columns= ['year_built', 'year_remod/add'], inplace=True)"
   ]
  },
  {
   "cell_type": "code",
   "execution_count": 27,
   "id": "d858da4b",
   "metadata": {},
   "outputs": [
    {
     "data": {
      "image/png": "[encoded data removed]",
      "text/plain": [
       "<Figure size 1080x1080 with 20 Axes>"
      ]
     },
     "metadata": {
      "needs_background": "light"
     },
     "output_type": "display_data"
    }
   ],
   "source": [
    "df_numeric_model.hist(figsize=(15,15));"
   ]
  },
  {
   "cell_type": "code",
   "execution_count": 28,
   "id": "ec8798de",
   "metadata": {},
   "outputs": [],
   "source": [
    "# In the following cells I perform some intial processing of the non-numerical features.\n",
    "# These variables will eventually need to be one-hot encoded, but this will be done separately for each model\n",
    "# as it is unlikely they will all be used and the large number of attributes will become cumbersome.\n",
    "\n",
    "# First, I add in ordinal variables that were removed from df_numeric_model above:\n",
    "\n",
    "df_non_numeric[['bsmtfin_type_1','garage_qual','overall_qual']] = df_numeric[['bsmtfin_type_1','garage_qual', 'overall_qual']].astype('str')"
   ]
  },
  {
   "cell_type": "code",
   "execution_count": 29,
   "id": "1d5d0500",
   "metadata": {},
   "outputs": [
    {
     "data": {
      "text/plain": [
       "array(['2Story', '1Story', '1.5Fin', 'SFoyer', 'SLvl', '2.5Unf', '2.5Fin',\n",
       "       '1.5Unf'], dtype=object)"
      ]
     },
     "execution_count": 29,
     "metadata": {},
     "output_type": "execute_result"
    }
   ],
   "source": [
    "df_non_numeric['house_style'].unique()"
   ]
  },
  {
   "cell_type": "markdown",
   "id": "ce1a1ec7",
   "metadata": {},
   "source": [
    "At this stage it is practical to reduce the number of non-numeric features. Many of the existing non-numeric features may convey similar types of information as it pertains to saleprice. For example, the feature 'neighborhood' is likely to influence saleprice because different areas of the city will vary in desirability (i.e. demand for residential land) and in the amount of residential land available (supply of residential land). Lower density areas will tend to have more land supply which will push prices down. But these areas will also tend to be less urbanized, and this will be reflected in other features such as 'utilities' (i.e., rural areas are less likely to have plumbing) and 'street' (i.e., rural areas are more likely to have unpaved roads. Thus, we can assume that many of the features in our non-numeric dataframe that convey information on urbanity or rurality will be encompassed by the broader geographic attribute, 'neighborhood'."
   ]
  },
  {
   "cell_type": "code",
   "execution_count": 30,
   "id": "dd8cfe75",
   "metadata": {},
   "outputs": [],
   "source": [
    "# Here, we will make some assumptions about which non-numeric features are likely to influence saleprice \n",
    "# and redefine a new dataframe for use in our simpler models.\n",
    "# Features will not be permanently dropped as we will use them again later when using automated feature selection.\n",
    "\n",
    "df_non_numeric_model = df_non_numeric.drop(columns=[\n",
    "    'ms_zoning',\n",
    "    'street',\n",
    "    'lot_shape',\n",
    "    'land_contour',\n",
    "    'neighborhood',\n",
    "    'land_slope',\n",
    "    'condition_1',\n",
    "    'condition_2',\n",
    "    'house_style',\n",
    "    'roof_matl',\n",
    "    'exterior_1st',\n",
    "    'exterior_2nd',\n",
    "    'mas_vnr_type',\n",
    "    'exter_cond',\n",
    "    'heating',\n",
    "    'functional',\n",
    "    'garage_type',\n",
    "    'sale_type',\n",
    "    'ms_subclass' \n",
    "])"
   ]
  },
  {
   "cell_type": "code",
   "execution_count": 31,
   "id": "4d7a9a96",
   "metadata": {
    "scrolled": true
   },
   "outputs": [
    {
     "data": {
      "text/html": [
       "<div>\n",
       "<style scoped>\n",
       "    .dataframe tbody tr th:only-of-type {\n",
       "        vertical-align: middle;\n",
       "    }\n",
       "\n",
       "    .dataframe tbody tr th {\n",
       "        vertical-align: top;\n",
       "    }\n",
       "\n",
       "    .dataframe thead th {\n",
       "        text-align: right;\n",
       "    }\n",
       "</style>\n",
       "<table border=\"1\" class=\"dataframe\">\n",
       "  <thead>\n",
       "    <tr style=\"text-align: right;\">\n",
       "      <th></th>\n",
       "      <th>utilities</th>\n",
       "      <th>lot_config</th>\n",
       "      <th>bldg_type</th>\n",
       "      <th>roof_style</th>\n",
       "      <th>exter_qual</th>\n",
       "      <th>foundation</th>\n",
       "      <th>heating_qc</th>\n",
       "      <th>central_air</th>\n",
       "      <th>electrical</th>\n",
       "      <th>kitchen_qual</th>\n",
       "      <th>paved_drive</th>\n",
       "      <th>bsmtfin_type_1</th>\n",
       "      <th>garage_qual</th>\n",
       "      <th>overall_qual</th>\n",
       "    </tr>\n",
       "  </thead>\n",
       "  <tbody>\n",
       "    <tr>\n",
       "      <th>0</th>\n",
       "      <td>AllPub</td>\n",
       "      <td>CulDSac</td>\n",
       "      <td>1Fam</td>\n",
       "      <td>Gable</td>\n",
       "      <td>Gd</td>\n",
       "      <td>CBlock</td>\n",
       "      <td>Ex</td>\n",
       "      <td>Y</td>\n",
       "      <td>SBrkr</td>\n",
       "      <td>Gd</td>\n",
       "      <td>Y</td>\n",
       "      <td>6</td>\n",
       "      <td>3</td>\n",
       "      <td>6</td>\n",
       "    </tr>\n",
       "    <tr>\n",
       "      <th>1</th>\n",
       "      <td>AllPub</td>\n",
       "      <td>CulDSac</td>\n",
       "      <td>1Fam</td>\n",
       "      <td>Gable</td>\n",
       "      <td>Gd</td>\n",
       "      <td>PConc</td>\n",
       "      <td>Ex</td>\n",
       "      <td>Y</td>\n",
       "      <td>SBrkr</td>\n",
       "      <td>Gd</td>\n",
       "      <td>Y</td>\n",
       "      <td>6</td>\n",
       "      <td>3</td>\n",
       "      <td>7</td>\n",
       "    </tr>\n",
       "    <tr>\n",
       "      <th>2</th>\n",
       "      <td>AllPub</td>\n",
       "      <td>Inside</td>\n",
       "      <td>1Fam</td>\n",
       "      <td>Gable</td>\n",
       "      <td>TA</td>\n",
       "      <td>CBlock</td>\n",
       "      <td>TA</td>\n",
       "      <td>Y</td>\n",
       "      <td>SBrkr</td>\n",
       "      <td>Gd</td>\n",
       "      <td>Y</td>\n",
       "      <td>6</td>\n",
       "      <td>3</td>\n",
       "      <td>5</td>\n",
       "    </tr>\n",
       "    <tr>\n",
       "      <th>3</th>\n",
       "      <td>AllPub</td>\n",
       "      <td>Inside</td>\n",
       "      <td>1Fam</td>\n",
       "      <td>Gable</td>\n",
       "      <td>TA</td>\n",
       "      <td>PConc</td>\n",
       "      <td>Gd</td>\n",
       "      <td>Y</td>\n",
       "      <td>SBrkr</td>\n",
       "      <td>TA</td>\n",
       "      <td>Y</td>\n",
       "      <td>1</td>\n",
       "      <td>3</td>\n",
       "      <td>5</td>\n",
       "    </tr>\n",
       "    <tr>\n",
       "      <th>4</th>\n",
       "      <td>AllPub</td>\n",
       "      <td>Inside</td>\n",
       "      <td>1Fam</td>\n",
       "      <td>Gable</td>\n",
       "      <td>TA</td>\n",
       "      <td>PConc</td>\n",
       "      <td>TA</td>\n",
       "      <td>Y</td>\n",
       "      <td>SBrkr</td>\n",
       "      <td>TA</td>\n",
       "      <td>N</td>\n",
       "      <td>1</td>\n",
       "      <td>3</td>\n",
       "      <td>6</td>\n",
       "    </tr>\n",
       "  </tbody>\n",
       "</table>\n",
       "</div>"
      ],
      "text/plain": [
       "  utilities lot_config bldg_type roof_style exter_qual foundation heating_qc  \\\n",
       "0    AllPub    CulDSac      1Fam      Gable         Gd     CBlock         Ex   \n",
       "1    AllPub    CulDSac      1Fam      Gable         Gd      PConc         Ex   \n",
       "2    AllPub     Inside      1Fam      Gable         TA     CBlock         TA   \n",
       "3    AllPub     Inside      1Fam      Gable         TA      PConc         Gd   \n",
       "4    AllPub     Inside      1Fam      Gable         TA      PConc         TA   \n",
       "\n",
       "  central_air electrical kitchen_qual paved_drive bsmtfin_type_1 garage_qual  \\\n",
       "0           Y      SBrkr           Gd           Y              6           3   \n",
       "1           Y      SBrkr           Gd           Y              6           3   \n",
       "2           Y      SBrkr           Gd           Y              6           3   \n",
       "3           Y      SBrkr           TA           Y              1           3   \n",
       "4           Y      SBrkr           TA           N              1           3   \n",
       "\n",
       "  overall_qual  \n",
       "0            6  \n",
       "1            7  \n",
       "2            5  \n",
       "3            5  \n",
       "4            6  "
      ]
     },
     "execution_count": 31,
     "metadata": {},
     "output_type": "execute_result"
    }
   ],
   "source": [
    "df_non_numeric_model.head()"
   ]
  },
  {
   "cell_type": "code",
   "execution_count": 32,
   "id": "7e719bcc",
   "metadata": {},
   "outputs": [
    {
     "data": {
      "text/plain": [
       "(2022, 14)"
      ]
     },
     "execution_count": 32,
     "metadata": {},
     "output_type": "execute_result"
    }
   ],
   "source": [
    "df_non_numeric_model.shape"
   ]
  },
  {
   "cell_type": "markdown",
   "id": "0646c5e4",
   "metadata": {},
   "source": [
    "## Part 3\n",
    "## Preprocessing and Modeling"
   ]
  },
  {
   "cell_type": "markdown",
   "id": "acfca391",
   "metadata": {},
   "source": [
    "Part 3 deals with model design, data pre-processing, and model instantiation. It is divided into subsections, each detailing the development of a separate model. The models in each subsection are all designed for the same purpose — predicting the final sale price for a house — but each model developed uses a different approach. In general, there are three broad classes of models presented in this report. First, are basic Linear Regression models, for which features are chosen based on domain knowledge and intuitions developed through the EDA. Second, I explore the use of more advanced regression models that employ regularization and automated feature selection. And the final class of model uses K Nearest Neighbour to predict sale price. \n",
    "\n",
    "The subsections are as follows:\n",
    "\n",
    "1. Basic Multiple Regression - Numeric\n",
    "2. Log(y) Multiple Regression - Numeric\n",
    "3. Multiple Regression with Polynomial Features - Numeric\n",
    "4. Multiple Regression with Selected Interaction Terms - Numeric &  Non-Numeric Features\n",
    "5. Ridge Regression\n",
    "6. Lasso Regression\n",
    "7. K-Nearest Neighbour\n"
   ]
  },
  {
   "cell_type": "markdown",
   "id": "c15208ab",
   "metadata": {},
   "source": [
    "### 1. Basic Multiple Regression - Numeric\n",
    "This first iteration uses only numeric variables and is not expected to have excellent performance. However, using it as a starting point will give a frame of reference for further iterations, and allow us evaluate how other model designs affect results. "
   ]
  },
  {
   "cell_type": "code",
   "execution_count": 33,
   "id": "a58ff12e",
   "metadata": {},
   "outputs": [],
   "source": [
    "X = df_numeric_model.drop(columns= 'saleprice')\n",
    "y = df_numeric_model['saleprice']"
   ]
  },
  {
   "cell_type": "code",
   "execution_count": 34,
   "id": "47d6d0f7",
   "metadata": {},
   "outputs": [],
   "source": [
    "# Here, I define the training and test groups for the X and y features.\n",
    "# Note that I use the default test size (0.25) as the sample is large enough that 75% of n is sufficient for model training.\n",
    "# This also applies to the other models presented below, so I will used a 25:75 test:train split, throughout.\n",
    "\n",
    "X_train, X_test, y_train, y_test = train_test_split(X, y, random_state=123)"
   ]
  },
  {
   "cell_type": "code",
   "execution_count": 35,
   "id": "9a7ecfbb",
   "metadata": {},
   "outputs": [],
   "source": [
    "ss = StandardScaler()\n",
    "\n",
    "X_train_sc = ss.fit_transform(X_train)\n",
    "X_test_sc = ss.transform(X_test)"
   ]
  },
  {
   "cell_type": "code",
   "execution_count": 36,
   "id": "738a080c",
   "metadata": {},
   "outputs": [
    {
     "data": {
      "text/plain": [
       "LinearRegression()"
      ]
     },
     "execution_count": 36,
     "metadata": {},
     "output_type": "execute_result"
    }
   ],
   "source": [
    "lr = LinearRegression()\n",
    "\n",
    "lr.fit(X_train_sc, y_train)"
   ]
  },
  {
   "cell_type": "code",
   "execution_count": 37,
   "id": "aac2b637",
   "metadata": {},
   "outputs": [
    {
     "data": {
      "text/plain": [
       "0.828744800130101"
      ]
     },
     "execution_count": 37,
     "metadata": {},
     "output_type": "execute_result"
    }
   ],
   "source": [
    "lr.score(X_train_sc, y_train)"
   ]
  },
  {
   "cell_type": "code",
   "execution_count": 38,
   "id": "27b784f5",
   "metadata": {
    "scrolled": true
   },
   "outputs": [
    {
     "data": {
      "text/plain": [
       "0.815913162017661"
      ]
     },
     "execution_count": 38,
     "metadata": {},
     "output_type": "execute_result"
    }
   ],
   "source": [
    "cross_val_score(lr, X_train_sc, y_train, cv = 10).mean()"
   ]
  },
  {
   "cell_type": "code",
   "execution_count": 39,
   "id": "9e5e256d",
   "metadata": {},
   "outputs": [
    {
     "data": {
      "text/plain": [
       "0.8072279970534681"
      ]
     },
     "execution_count": 39,
     "metadata": {},
     "output_type": "execute_result"
    }
   ],
   "source": [
    "lr.score(X_test_sc, y_test)"
   ]
  },
  {
   "cell_type": "code",
   "execution_count": 40,
   "id": "e0d7869e",
   "metadata": {},
   "outputs": [
    {
     "data": {
      "text/plain": [
       "181078.8768545994"
      ]
     },
     "execution_count": 40,
     "metadata": {},
     "output_type": "execute_result"
    }
   ],
   "source": [
    "# For reference, here is our baseline prediction, the mean of y.\n",
    "# This corresponds to an R^2 of 0.\n",
    "y.mean()"
   ]
  },
  {
   "cell_type": "markdown",
   "id": "8a97fc82",
   "metadata": {},
   "source": [
    "We can see that this model is low variance but fairly high bias. The R^2 of 0.83 is a decent result, but we would hope for more accurate predictions in this domain. With that said, 0.83 still vastly outperforms the baseline model, and so this model could still be useable in certain contexts."
   ]
  },
  {
   "cell_type": "markdown",
   "id": "ee0a987b",
   "metadata": {},
   "source": [
    "### 2. Log(y) Multiple Regression - Numeric\n",
    "This model uses the same data as the previous one but uses the log of 'saleprice' as the target variable."
   ]
  },
  {
   "cell_type": "code",
   "execution_count": 41,
   "id": "6bed9dd4",
   "metadata": {},
   "outputs": [],
   "source": [
    "X = df_numeric_model.drop(columns= 'saleprice')\n",
    "y = np.log(df_numeric_model['saleprice'])"
   ]
  },
  {
   "cell_type": "code",
   "execution_count": 42,
   "id": "060feb07",
   "metadata": {},
   "outputs": [],
   "source": [
    "X_train, X_test, y_train, y_test = train_test_split(X, y, random_state=123)"
   ]
  },
  {
   "cell_type": "code",
   "execution_count": 43,
   "id": "791dc0fb",
   "metadata": {},
   "outputs": [],
   "source": [
    "ss = StandardScaler()\n",
    "\n",
    "X_train_sc = ss.fit_transform(X_train)\n",
    "X_test_sc = ss.transform(X_test)"
   ]
  },
  {
   "cell_type": "code",
   "execution_count": 44,
   "id": "73b13563",
   "metadata": {},
   "outputs": [
    {
     "data": {
      "text/plain": [
       "LinearRegression()"
      ]
     },
     "execution_count": 44,
     "metadata": {},
     "output_type": "execute_result"
    }
   ],
   "source": [
    "lr = LinearRegression()\n",
    "\n",
    "lr.fit(X_train_sc, y_train)"
   ]
  },
  {
   "cell_type": "code",
   "execution_count": 45,
   "id": "f23245ed",
   "metadata": {},
   "outputs": [
    {
     "data": {
      "text/plain": [
       "0.8583166239575363"
      ]
     },
     "execution_count": 45,
     "metadata": {},
     "output_type": "execute_result"
    }
   ],
   "source": [
    "lr.score(X_train_sc, y_train)"
   ]
  },
  {
   "cell_type": "code",
   "execution_count": 46,
   "id": "5389a17a",
   "metadata": {},
   "outputs": [
    {
     "data": {
      "text/plain": [
       "0.8487022065150892"
      ]
     },
     "execution_count": 46,
     "metadata": {},
     "output_type": "execute_result"
    }
   ],
   "source": [
    "cross_val_score(lr, X_train_sc, y_train, cv = 10).mean()"
   ]
  },
  {
   "cell_type": "code",
   "execution_count": 47,
   "id": "77ba2789",
   "metadata": {},
   "outputs": [
    {
     "data": {
      "text/plain": [
       "0.8415878142419833"
      ]
     },
     "execution_count": 47,
     "metadata": {},
     "output_type": "execute_result"
    }
   ],
   "source": [
    "lr.score(X_test_sc, y_test)"
   ]
  },
  {
   "cell_type": "markdown",
   "id": "2d5d1afc",
   "metadata": {},
   "source": [
    "We can see that the use of log(saleprice) has improved this model's perfomance by a few percentage points. Variance remains low, and overall the bias has been reduced, as R^2 has improved to about 0.86."
   ]
  },
  {
   "cell_type": "markdown",
   "id": "3c669e2e",
   "metadata": {},
   "source": [
    "### 3. Multiple Regression with Polynomial Features - Numeric\n",
    "As with the previous two models, this model uses only numeric features, however it increases complexity by adding interaction terms."
   ]
  },
  {
   "cell_type": "code",
   "execution_count": 48,
   "id": "ae38449d",
   "metadata": {},
   "outputs": [],
   "source": [
    "# In the next several cells I generate interaction terms and evaluate how they correlate with 'saleprice'.\n",
    "# Here, I define the PolynomialFeatures method:\n",
    "\n",
    "poly = PolynomialFeatures(include_bias= False)"
   ]
  },
  {
   "cell_type": "code",
   "execution_count": 49,
   "id": "e1e9ae8d",
   "metadata": {},
   "outputs": [],
   "source": [
    "df_numeric_model_polynomials = pd.DataFrame(poly.fit_transform(df_numeric_model),columns= poly.get_feature_names(df_numeric_model.columns))"
   ]
  },
  {
   "cell_type": "code",
   "execution_count": 50,
   "id": "750832d1",
   "metadata": {},
   "outputs": [
    {
     "data": {
      "text/html": [
       "<div>\n",
       "<style scoped>\n",
       "    .dataframe tbody tr th:only-of-type {\n",
       "        vertical-align: middle;\n",
       "    }\n",
       "\n",
       "    .dataframe tbody tr th {\n",
       "        vertical-align: top;\n",
       "    }\n",
       "\n",
       "    .dataframe thead th {\n",
       "        text-align: right;\n",
       "    }\n",
       "</style>\n",
       "<table border=\"1\" class=\"dataframe\">\n",
       "  <thead>\n",
       "    <tr style=\"text-align: right;\">\n",
       "      <th></th>\n",
       "      <th>age</th>\n",
       "      <th>years_reno</th>\n",
       "      <th>age years_reno</th>\n",
       "      <th>years_reno^2</th>\n",
       "      <th>totrms_abvgrd years_reno</th>\n",
       "      <th>age^2</th>\n",
       "      <th>totrms_abvgrd age</th>\n",
       "      <th>1st_flr_sf age</th>\n",
       "      <th>full_bath years_reno</th>\n",
       "      <th>1st_flr_sf years_reno</th>\n",
       "      <th>full_bath age</th>\n",
       "      <th>total_bsmt_sf age</th>\n",
       "      <th>gr_liv_area years_reno</th>\n",
       "      <th>total_bsmt_sf years_reno</th>\n",
       "      <th>gr_liv_area age</th>\n",
       "      <th>garage_area years_reno</th>\n",
       "      <th>lot_area years_reno</th>\n",
       "      <th>saleprice years_reno</th>\n",
       "      <th>garage_area age</th>\n",
       "      <th>lot_area age</th>\n",
       "      <th>saleprice age</th>\n",
       "      <th>bsmt_full_bath age</th>\n",
       "      <th>bsmt_full_bath years_reno</th>\n",
       "      <th>2nd_flr_sf years_reno</th>\n",
       "      <th>2nd_flr_sf age</th>\n",
       "      <th>half_bath years_reno</th>\n",
       "      <th>open_porch_sf years_reno</th>\n",
       "      <th>wood_deck_sf age</th>\n",
       "      <th>wood_deck_sf years_reno</th>\n",
       "      <th>open_porch_sf age</th>\n",
       "      <th>half_bath age</th>\n",
       "      <th>fireplaces years_reno</th>\n",
       "      <th>mas_vnr_area years_reno</th>\n",
       "      <th>fireplaces age</th>\n",
       "      <th>mas_vnr_area age</th>\n",
       "      <th>lot_area^2</th>\n",
       "      <th>open_porch_sf^2</th>\n",
       "      <th>wood_deck_sf^2</th>\n",
       "      <th>half_bath^2</th>\n",
       "      <th>bsmt_full_bath^2</th>\n",
       "      <th>2nd_flr_sf</th>\n",
       "      <th>2nd_flr_sf bsmt_full_bath</th>\n",
       "      <th>half_bath</th>\n",
       "      <th>2nd_flr_sf open_porch_sf</th>\n",
       "      <th>bsmt_full_bath wood_deck_sf</th>\n",
       "      <th>bsmt_full_bath</th>\n",
       "      <th>bsmt_full_bath half_bath</th>\n",
       "      <th>lot_area</th>\n",
       "      <th>2nd_flr_sf wood_deck_sf</th>\n",
       "      <th>half_bath wood_deck_sf</th>\n",
       "      <th>...</th>\n",
       "      <th>half_bath saleprice</th>\n",
       "      <th>totrms_abvgrd fireplaces</th>\n",
       "      <th>wood_deck_sf saleprice</th>\n",
       "      <th>mas_vnr_area totrms_abvgrd</th>\n",
       "      <th>full_bath fireplaces</th>\n",
       "      <th>mas_vnr_area full_bath</th>\n",
       "      <th>open_porch_sf saleprice</th>\n",
       "      <th>bsmt_full_bath saleprice</th>\n",
       "      <th>1st_flr_sf fireplaces</th>\n",
       "      <th>mas_vnr_area gr_liv_area</th>\n",
       "      <th>full_bath totrms_abvgrd</th>\n",
       "      <th>mas_vnr_area 1st_flr_sf</th>\n",
       "      <th>gr_liv_area fireplaces</th>\n",
       "      <th>mas_vnr_area total_bsmt_sf</th>\n",
       "      <th>mas_vnr_area garage_area</th>\n",
       "      <th>total_bsmt_sf fireplaces</th>\n",
       "      <th>lot_area saleprice</th>\n",
       "      <th>gr_liv_area totrms_abvgrd</th>\n",
       "      <th>fireplaces garage_area</th>\n",
       "      <th>1st_flr_sf</th>\n",
       "      <th>garage_area</th>\n",
       "      <th>garage_area^2</th>\n",
       "      <th>1st_flr_sf^2</th>\n",
       "      <th>total_bsmt_sf</th>\n",
       "      <th>mas_vnr_area saleprice</th>\n",
       "      <th>total_bsmt_sf^2</th>\n",
       "      <th>gr_liv_area full_bath</th>\n",
       "      <th>total_bsmt_sf 1st_flr_sf</th>\n",
       "      <th>gr_liv_area^2</th>\n",
       "      <th>1st_flr_sf totrms_abvgrd</th>\n",
       "      <th>1st_flr_sf full_bath</th>\n",
       "      <th>gr_liv_area</th>\n",
       "      <th>totrms_abvgrd garage_area</th>\n",
       "      <th>total_bsmt_sf full_bath</th>\n",
       "      <th>full_bath garage_area</th>\n",
       "      <th>total_bsmt_sf totrms_abvgrd</th>\n",
       "      <th>fireplaces saleprice</th>\n",
       "      <th>1st_flr_sf garage_area</th>\n",
       "      <th>total_bsmt_sf garage_area</th>\n",
       "      <th>1st_flr_sf gr_liv_area</th>\n",
       "      <th>gr_liv_area garage_area</th>\n",
       "      <th>total_bsmt_sf gr_liv_area</th>\n",
       "      <th>total_bsmt_sf saleprice</th>\n",
       "      <th>full_bath saleprice</th>\n",
       "      <th>garage_area saleprice</th>\n",
       "      <th>1st_flr_sf saleprice</th>\n",
       "      <th>totrms_abvgrd saleprice</th>\n",
       "      <th>gr_liv_area saleprice</th>\n",
       "      <th>saleprice^2</th>\n",
       "      <th>saleprice</th>\n",
       "    </tr>\n",
       "  </thead>\n",
       "  <tbody>\n",
       "    <tr>\n",
       "      <th>saleprice</th>\n",
       "      <td>-0.57161</td>\n",
       "      <td>-0.550308</td>\n",
       "      <td>-0.518057</td>\n",
       "      <td>-0.51224</td>\n",
       "      <td>-0.458456</td>\n",
       "      <td>-0.447584</td>\n",
       "      <td>-0.434685</td>\n",
       "      <td>-0.425058</td>\n",
       "      <td>-0.418898</td>\n",
       "      <td>-0.406615</td>\n",
       "      <td>-0.391071</td>\n",
       "      <td>-0.385063</td>\n",
       "      <td>-0.376006</td>\n",
       "      <td>-0.354674</td>\n",
       "      <td>-0.326746</td>\n",
       "      <td>-0.310535</td>\n",
       "      <td>-0.310487</td>\n",
       "      <td>-0.3017</td>\n",
       "      <td>-0.292715</td>\n",
       "      <td>-0.268651</td>\n",
       "      <td>-0.264759</td>\n",
       "      <td>-0.132856</td>\n",
       "      <td>-0.121672</td>\n",
       "      <td>-0.116752</td>\n",
       "      <td>-0.102194</td>\n",
       "      <td>-0.063474</td>\n",
       "      <td>-0.060637</td>\n",
       "      <td>-0.054599</td>\n",
       "      <td>-0.049093</td>\n",
       "      <td>-0.048296</td>\n",
       "      <td>-0.039124</td>\n",
       "      <td>-0.026621</td>\n",
       "      <td>-0.000584</td>\n",
       "      <td>0.003866</td>\n",
       "      <td>0.014096</td>\n",
       "      <td>0.117372</td>\n",
       "      <td>0.162261</td>\n",
       "      <td>0.202689</td>\n",
       "      <td>0.234947</td>\n",
       "      <td>0.248422</td>\n",
       "      <td>0.250335</td>\n",
       "      <td>0.27552</td>\n",
       "      <td>0.278004</td>\n",
       "      <td>0.280626</td>\n",
       "      <td>0.284601</td>\n",
       "      <td>0.284628</td>\n",
       "      <td>0.297572</td>\n",
       "      <td>0.304531</td>\n",
       "      <td>0.307112</td>\n",
       "      <td>0.318052</td>\n",
       "      <td>...</td>\n",
       "      <td>0.549892</td>\n",
       "      <td>0.555712</td>\n",
       "      <td>0.561171</td>\n",
       "      <td>0.583927</td>\n",
       "      <td>0.584547</td>\n",
       "      <td>0.585116</td>\n",
       "      <td>0.589605</td>\n",
       "      <td>0.592665</td>\n",
       "      <td>0.5946</td>\n",
       "      <td>0.604738</td>\n",
       "      <td>0.605817</td>\n",
       "      <td>0.606613</td>\n",
       "      <td>0.608111</td>\n",
       "      <td>0.616135</td>\n",
       "      <td>0.623158</td>\n",
       "      <td>0.628587</td>\n",
       "      <td>0.639113</td>\n",
       "      <td>0.653108</td>\n",
       "      <td>0.654172</td>\n",
       "      <td>0.654372</td>\n",
       "      <td>0.657274</td>\n",
       "      <td>0.658668</td>\n",
       "      <td>0.661618</td>\n",
       "      <td>0.667614</td>\n",
       "      <td>0.679772</td>\n",
       "      <td>0.688634</td>\n",
       "      <td>0.697107</td>\n",
       "      <td>0.702857</td>\n",
       "      <td>0.708064</td>\n",
       "      <td>0.711998</td>\n",
       "      <td>0.7171</td>\n",
       "      <td>0.721223</td>\n",
       "      <td>0.741133</td>\n",
       "      <td>0.743372</td>\n",
       "      <td>0.743473</td>\n",
       "      <td>0.750791</td>\n",
       "      <td>0.751285</td>\n",
       "      <td>0.774356</td>\n",
       "      <td>0.784879</td>\n",
       "      <td>0.785403</td>\n",
       "      <td>0.809378</td>\n",
       "      <td>0.823677</td>\n",
       "      <td>0.91375</td>\n",
       "      <td>0.914846</td>\n",
       "      <td>0.922771</td>\n",
       "      <td>0.924975</td>\n",
       "      <td>0.92997</td>\n",
       "      <td>0.940033</td>\n",
       "      <td>0.961097</td>\n",
       "      <td>1.0</td>\n",
       "    </tr>\n",
       "  </tbody>\n",
       "</table>\n",
       "<p>1 rows × 170 columns</p>\n",
       "</div>"
      ],
      "text/plain": [
       "               age  years_reno  age years_reno  years_reno^2  \\\n",
       "saleprice -0.57161   -0.550308       -0.518057      -0.51224   \n",
       "\n",
       "           totrms_abvgrd years_reno     age^2  totrms_abvgrd age  \\\n",
       "saleprice                 -0.458456 -0.447584          -0.434685   \n",
       "\n",
       "           1st_flr_sf age  full_bath years_reno  1st_flr_sf years_reno  \\\n",
       "saleprice       -0.425058             -0.418898              -0.406615   \n",
       "\n",
       "           full_bath age  total_bsmt_sf age  gr_liv_area years_reno  \\\n",
       "saleprice      -0.391071          -0.385063               -0.376006   \n",
       "\n",
       "           total_bsmt_sf years_reno  gr_liv_area age  garage_area years_reno  \\\n",
       "saleprice                 -0.354674        -0.326746               -0.310535   \n",
       "\n",
       "           lot_area years_reno  saleprice years_reno  garage_area age  \\\n",
       "saleprice            -0.310487               -0.3017        -0.292715   \n",
       "\n",
       "           lot_area age  saleprice age  bsmt_full_bath age  \\\n",
       "saleprice     -0.268651      -0.264759           -0.132856   \n",
       "\n",
       "           bsmt_full_bath years_reno  2nd_flr_sf years_reno  2nd_flr_sf age  \\\n",
       "saleprice                  -0.121672              -0.116752       -0.102194   \n",
       "\n",
       "           half_bath years_reno  open_porch_sf years_reno  wood_deck_sf age  \\\n",
       "saleprice             -0.063474                 -0.060637         -0.054599   \n",
       "\n",
       "           wood_deck_sf years_reno  open_porch_sf age  half_bath age  \\\n",
       "saleprice                -0.049093          -0.048296      -0.039124   \n",
       "\n",
       "           fireplaces years_reno  mas_vnr_area years_reno  fireplaces age  \\\n",
       "saleprice              -0.026621                -0.000584        0.003866   \n",
       "\n",
       "           mas_vnr_area age  lot_area^2  open_porch_sf^2  wood_deck_sf^2  \\\n",
       "saleprice          0.014096    0.117372         0.162261        0.202689   \n",
       "\n",
       "           half_bath^2  bsmt_full_bath^2  2nd_flr_sf  \\\n",
       "saleprice     0.234947          0.248422    0.250335   \n",
       "\n",
       "           2nd_flr_sf bsmt_full_bath  half_bath  2nd_flr_sf open_porch_sf  \\\n",
       "saleprice                    0.27552   0.278004                  0.280626   \n",
       "\n",
       "           bsmt_full_bath wood_deck_sf  bsmt_full_bath  \\\n",
       "saleprice                     0.284601        0.284628   \n",
       "\n",
       "           bsmt_full_bath half_bath  lot_area  2nd_flr_sf wood_deck_sf  \\\n",
       "saleprice                  0.297572  0.304531                 0.307112   \n",
       "\n",
       "           half_bath wood_deck_sf  ...  half_bath saleprice  \\\n",
       "saleprice                0.318052  ...             0.549892   \n",
       "\n",
       "           totrms_abvgrd fireplaces  wood_deck_sf saleprice  \\\n",
       "saleprice                  0.555712                0.561171   \n",
       "\n",
       "           mas_vnr_area totrms_abvgrd  full_bath fireplaces  \\\n",
       "saleprice                    0.583927              0.584547   \n",
       "\n",
       "           mas_vnr_area full_bath  open_porch_sf saleprice  \\\n",
       "saleprice                0.585116                 0.589605   \n",
       "\n",
       "           bsmt_full_bath saleprice  1st_flr_sf fireplaces  \\\n",
       "saleprice                  0.592665                 0.5946   \n",
       "\n",
       "           mas_vnr_area gr_liv_area  full_bath totrms_abvgrd  \\\n",
       "saleprice                  0.604738                 0.605817   \n",
       "\n",
       "           mas_vnr_area 1st_flr_sf  gr_liv_area fireplaces  \\\n",
       "saleprice                 0.606613                0.608111   \n",
       "\n",
       "           mas_vnr_area total_bsmt_sf  mas_vnr_area garage_area  \\\n",
       "saleprice                    0.616135                  0.623158   \n",
       "\n",
       "           total_bsmt_sf fireplaces  lot_area saleprice  \\\n",
       "saleprice                  0.628587            0.639113   \n",
       "\n",
       "           gr_liv_area totrms_abvgrd  fireplaces garage_area  1st_flr_sf  \\\n",
       "saleprice                   0.653108                0.654172    0.654372   \n",
       "\n",
       "           garage_area  garage_area^2  1st_flr_sf^2  total_bsmt_sf  \\\n",
       "saleprice     0.657274       0.658668      0.661618       0.667614   \n",
       "\n",
       "           mas_vnr_area saleprice  total_bsmt_sf^2  gr_liv_area full_bath  \\\n",
       "saleprice                0.679772         0.688634               0.697107   \n",
       "\n",
       "           total_bsmt_sf 1st_flr_sf  gr_liv_area^2  1st_flr_sf totrms_abvgrd  \\\n",
       "saleprice                  0.702857       0.708064                  0.711998   \n",
       "\n",
       "           1st_flr_sf full_bath  gr_liv_area  totrms_abvgrd garage_area  \\\n",
       "saleprice                0.7171     0.721223                   0.741133   \n",
       "\n",
       "           total_bsmt_sf full_bath  full_bath garage_area  \\\n",
       "saleprice                 0.743372               0.743473   \n",
       "\n",
       "           total_bsmt_sf totrms_abvgrd  fireplaces saleprice  \\\n",
       "saleprice                     0.750791              0.751285   \n",
       "\n",
       "           1st_flr_sf garage_area  total_bsmt_sf garage_area  \\\n",
       "saleprice                0.774356                   0.784879   \n",
       "\n",
       "           1st_flr_sf gr_liv_area  gr_liv_area garage_area  \\\n",
       "saleprice                0.785403                 0.809378   \n",
       "\n",
       "           total_bsmt_sf gr_liv_area  total_bsmt_sf saleprice  \\\n",
       "saleprice                   0.823677                  0.91375   \n",
       "\n",
       "           full_bath saleprice  garage_area saleprice  1st_flr_sf saleprice  \\\n",
       "saleprice             0.914846               0.922771              0.924975   \n",
       "\n",
       "           totrms_abvgrd saleprice  gr_liv_area saleprice  saleprice^2  \\\n",
       "saleprice                  0.92997               0.940033     0.961097   \n",
       "\n",
       "           saleprice  \n",
       "saleprice        1.0  \n",
       "\n",
       "[1 rows x 170 columns]"
      ]
     },
     "execution_count": 50,
     "metadata": {},
     "output_type": "execute_result"
    }
   ],
   "source": [
    "# We can see that some of the interaction terms have a high positive correlation with 'saleprice',\n",
    "# and some have a moderate negative correlation:\n",
    "\n",
    "df_numeric_model_polynomials.corr()[['saleprice']].sort_values(by= 'saleprice').T"
   ]
  },
  {
   "cell_type": "code",
   "execution_count": 51,
   "id": "ed1f4457",
   "metadata": {},
   "outputs": [],
   "source": [
    "# Overall, there are too many features to use in the model so I isolate those that have a positive correlation with 'saleprice',\n",
    "# that is greater that 0.6, or a negative correlation lower than -0.4.\n",
    "high_corr_columns = []\n",
    "\n",
    "for column in df_numeric_model_polynomials.columns:\n",
    "    if stats.pearsonr(df_numeric_model_polynomials['saleprice'],\n",
    "                      df_numeric_model_polynomials[column])[0] > 0.6 or stats.pearsonr(df_numeric_model_polynomials['saleprice'],\n",
    "                                                                                       df_numeric_model_polynomials[column])[0] < -0.4:\n",
    "        high_corr_columns.append(column)\n",
    "\n",
    "# Defintion of new dataframe looking only at highly correlated numeric features\n",
    "df_numeric_high_corr = df_numeric_model_polynomials[high_corr_columns]"
   ]
  },
  {
   "cell_type": "code",
   "execution_count": 106,
   "id": "8975d5bf",
   "metadata": {},
   "outputs": [],
   "source": [
    "# In the following cells, I fit the model using the new numeric features, which include interaction terms:\n",
    "\n",
    "X = df_numeric_high_corr[[column for column in df_numeric_high_corr.columns if 'saleprice' not in column]]\n",
    "y = df_numeric_high_corr['saleprice']"
   ]
  },
  {
   "cell_type": "code",
   "execution_count": 107,
   "id": "e98c1b9c",
   "metadata": {},
   "outputs": [],
   "source": [
    "X_train, X_test, y_train, y_test = train_test_split(X, y, random_state=123)"
   ]
  },
  {
   "cell_type": "code",
   "execution_count": 108,
   "id": "a2ed05ef",
   "metadata": {},
   "outputs": [],
   "source": [
    "X_train_sc = ss.fit_transform(X_train)\n",
    "X_test_sc = ss.transform(X_test)"
   ]
  },
  {
   "cell_type": "code",
   "execution_count": 109,
   "id": "7b1e51fe",
   "metadata": {},
   "outputs": [
    {
     "data": {
      "text/plain": [
       "LinearRegression()"
      ]
     },
     "execution_count": 109,
     "metadata": {},
     "output_type": "execute_result"
    }
   ],
   "source": [
    "lr.fit(X_train_sc, y_train)"
   ]
  },
  {
   "cell_type": "code",
   "execution_count": 110,
   "id": "04508493",
   "metadata": {},
   "outputs": [
    {
     "data": {
      "text/plain": [
       "0.8795496752137097"
      ]
     },
     "execution_count": 110,
     "metadata": {},
     "output_type": "execute_result"
    }
   ],
   "source": [
    "lr.score(X_train_sc, y_train)"
   ]
  },
  {
   "cell_type": "code",
   "execution_count": 57,
   "id": "fd89ee5c",
   "metadata": {},
   "outputs": [
    {
     "data": {
      "text/plain": [
       "0.8622579705618115"
      ]
     },
     "execution_count": 57,
     "metadata": {},
     "output_type": "execute_result"
    }
   ],
   "source": [
    "cross_val_score(lr, X_train_sc, y_train, cv=10).mean()"
   ]
  },
  {
   "cell_type": "code",
   "execution_count": 58,
   "id": "7c6f605f",
   "metadata": {},
   "outputs": [
    {
     "data": {
      "text/plain": [
       "0.853033836665189"
      ]
     },
     "execution_count": 58,
     "metadata": {},
     "output_type": "execute_result"
    }
   ],
   "source": [
    "lr.score(X_test_sc, y_test)"
   ]
  },
  {
   "cell_type": "markdown",
   "id": "b4df5a1c",
   "metadata": {},
   "source": [
    "The inclusion of interaction terms produced an interesting result that is not immediately evident. The reader may have noticed that when X and y were defined for this model, I did not use log(saleprice). In this model's first version, log(saleprice) was used and did not improve the model's accuracy. The test score and cross validation score's were almost idential to those in model #2, but the training score was slightly higher, suggesting an increase in variance (i.e., slight model overfit). In the second pass I used a non-transformed 'saleprice' as the target variable and bias reduced by several percentage points, with variance remaining low."
   ]
  },
  {
   "cell_type": "markdown",
   "id": "3bb6865c",
   "metadata": {},
   "source": [
    "### 4. Multiple Regression with Selected Interaction Terms - Numeric &  Non-Numeric Features\n",
    "This model retains 3 interactions terms from model #3, which not only had particularly high correlation with 'saleprice'. In addition, selected non-numeric features are one-hot encoded and used to train this model. The selection of features was based on intuition and some degree of trial and error, as many different combinations were tried. The model presented here seemed to be the best performing in terms of minimizing both bias and variance."
   ]
  },
  {
   "cell_type": "code",
   "execution_count": 59,
   "id": "42687213",
   "metadata": {},
   "outputs": [],
   "source": [
    "# The dataframes containing the numeric and non-numeric features are combined here.\n",
    "# Hand-selected non-numeric features are used, and dummified during the merge:\n",
    "\n",
    "df_allType_model = pd.merge(\n",
    "    df_numeric_model,\n",
    "    pd.get_dummies(df_non_numeric_model[['overall_qual', 'bldg_type','bsmtfin_type_1','paved_drive', 'kitchen_qual', 'exter_qual','garage_qual']], drop_first= True),\n",
    "    right_index= True,\n",
    "    left_index= True\n",
    ")"
   ]
  },
  {
   "cell_type": "code",
   "execution_count": 60,
   "id": "8ebaad80",
   "metadata": {},
   "outputs": [],
   "source": [
    "# High correlation interaction terms are recreated:\n",
    "df_allType_model['gr_liv_area*total_basement_sf'] = df_allType_model['gr_liv_area'] * df_allType_model['total_bsmt_sf']\n",
    "df_allType_model['age*years_reno'] = df_allType_model['gr_liv_area'] * df_allType_model['total_bsmt_sf']\n",
    "df_allType_model['gr_liv_area**2'] = df_allType_model['gr_liv_area'] ** 2"
   ]
  },
  {
   "cell_type": "code",
   "execution_count": 121,
   "id": "885f46ad",
   "metadata": {},
   "outputs": [],
   "source": [
    "# In the follow cells the model is fit and scores are produced.\n",
    "\n",
    "X = df_allType_model.drop(columns= 'saleprice')\n",
    "y = df_numeric_model['saleprice']"
   ]
  },
  {
   "cell_type": "code",
   "execution_count": 117,
   "id": "f618a747",
   "metadata": {},
   "outputs": [],
   "source": [
    "X_train, X_test, y_train, y_test = train_test_split(X, y, random_state= 123)"
   ]
  },
  {
   "cell_type": "code",
   "execution_count": 118,
   "id": "82286a15",
   "metadata": {},
   "outputs": [],
   "source": [
    "X_train_sc = ss.fit_transform(X_train)\n",
    "X_test_sc = ss.transform(X_test)"
   ]
  },
  {
   "cell_type": "code",
   "execution_count": 119,
   "id": "b1e5311b",
   "metadata": {
    "scrolled": true
   },
   "outputs": [
    {
     "data": {
      "text/plain": [
       "LinearRegression()"
      ]
     },
     "execution_count": 119,
     "metadata": {},
     "output_type": "execute_result"
    }
   ],
   "source": [
    "lr.fit(X_train_sc, y_train)"
   ]
  },
  {
   "cell_type": "code",
   "execution_count": 120,
   "id": "e63608b6",
   "metadata": {},
   "outputs": [
    {
     "data": {
      "text/plain": [
       "0.9141279445342566"
      ]
     },
     "execution_count": 120,
     "metadata": {},
     "output_type": "execute_result"
    }
   ],
   "source": [
    "lr.score(X_train_sc, y_train)"
   ]
  },
  {
   "cell_type": "code",
   "execution_count": 66,
   "id": "71443b30",
   "metadata": {},
   "outputs": [
    {
     "data": {
      "text/plain": [
       "0.900754675465446"
      ]
     },
     "execution_count": 66,
     "metadata": {},
     "output_type": "execute_result"
    }
   ],
   "source": [
    "cross_val_score(lr, X_train_sc, y_train, cv = 5).mean()"
   ]
  },
  {
   "cell_type": "code",
   "execution_count": 67,
   "id": "261a62ea",
   "metadata": {},
   "outputs": [
    {
     "data": {
      "text/plain": [
       "0.9053042213118109"
      ]
     },
     "execution_count": 67,
     "metadata": {},
     "output_type": "execute_result"
    }
   ],
   "source": [
    "lr.score(X_test_sc, y_test)"
   ]
  },
  {
   "cell_type": "markdown",
   "id": "9d078d53",
   "metadata": {},
   "source": [
    "This model ended up being the best performing and was used to test the Kaggle data. It had a nice R^2 of 0.91, with low variance. Here, as with model #3, I tried using both 'saleprice' and log(saleprice) as target features, and again the model performed better with non-transformed 'saleprice'."
   ]
  },
  {
   "cell_type": "markdown",
   "id": "714df3c9",
   "metadata": {},
   "source": [
    "#### Kaggle Output\n",
    "As the best performing model, the Kaggle test data set is fit, formatted, and exported in the following cells:"
   ]
  },
  {
   "cell_type": "code",
   "execution_count": 68,
   "id": "3efea93a",
   "metadata": {},
   "outputs": [],
   "source": [
    "kaggle_train = pd.read_csv('../datasets/kaggle_train.tsv', sep= '\\t')"
   ]
  },
  {
   "cell_type": "code",
   "execution_count": 69,
   "id": "48a1710f",
   "metadata": {},
   "outputs": [],
   "source": [
    "kaggle_train.set_index('Unnamed: 0', inplace= True)"
   ]
  },
  {
   "cell_type": "code",
   "execution_count": 70,
   "id": "39cb56e3",
   "metadata": {},
   "outputs": [],
   "source": [
    "kaggle_train_sc = ss.transform(kaggle_train.drop(columns='id'))"
   ]
  },
  {
   "cell_type": "code",
   "execution_count": 71,
   "id": "b187eb91",
   "metadata": {},
   "outputs": [],
   "source": [
    "pred = lr.predict(kaggle_train_sc)"
   ]
  },
  {
   "cell_type": "code",
   "execution_count": 72,
   "id": "4dad74be",
   "metadata": {},
   "outputs": [],
   "source": [
    "kaggle_submission = pd.DataFrame(pred)"
   ]
  },
  {
   "cell_type": "code",
   "execution_count": 73,
   "id": "24bb8992",
   "metadata": {},
   "outputs": [],
   "source": [
    "kaggle_submission.rename(columns={0:'SalePrice'}, inplace=True)"
   ]
  },
  {
   "cell_type": "code",
   "execution_count": 74,
   "id": "50288884",
   "metadata": {},
   "outputs": [],
   "source": [
    "kaggle_submission['Id'] = kaggle_train['id']\n",
    "kaggle_submission = kaggle_submission[['Id','SalePrice']]"
   ]
  },
  {
   "cell_type": "code",
   "execution_count": 75,
   "id": "df7f0d7c",
   "metadata": {},
   "outputs": [],
   "source": [
    "kaggle_submission = kaggle_submission.sort_values(by='Id')"
   ]
  },
  {
   "cell_type": "code",
   "execution_count": 76,
   "id": "3d639597",
   "metadata": {},
   "outputs": [],
   "source": [
    "kaggle_submission.to_csv('../datasets/kaggle_submission_6.csv', index=False)"
   ]
  },
  {
   "cell_type": "markdown",
   "id": "143c3d1c",
   "metadata": {},
   "source": [
    "### 5. Ridge Regression\n",
    "\n",
    "For the following two models I attmpt to automate feature selection through regularization. This is done using ridge and lasso regression models. I use the same dataset as above, 'df_allType_model', which contains a mix of numeric and non-numeric variables, including several interation terms that were found to be highly correlated with 'saleprice'."
   ]
  },
  {
   "cell_type": "code",
   "execution_count": 77,
   "id": "5ab9242e",
   "metadata": {},
   "outputs": [],
   "source": [
    "X = df_allType_model.drop(columns= 'saleprice')\n",
    "y = df_numeric_model['saleprice']"
   ]
  },
  {
   "cell_type": "code",
   "execution_count": 78,
   "id": "095f231f",
   "metadata": {},
   "outputs": [],
   "source": [
    "X_train, X_test, y_train, y_test = train_test_split(X,y, random_state= 123)"
   ]
  },
  {
   "cell_type": "code",
   "execution_count": 79,
   "id": "cb4df075",
   "metadata": {},
   "outputs": [],
   "source": [
    "ss = StandardScaler()"
   ]
  },
  {
   "cell_type": "code",
   "execution_count": 80,
   "id": "d088ccaf",
   "metadata": {},
   "outputs": [],
   "source": [
    "X_train_sc = ss.fit_transform(X_train)\n",
    "X_test_sc = ss.transform(X_test)"
   ]
  },
  {
   "cell_type": "code",
   "execution_count": 81,
   "id": "f7541af1",
   "metadata": {},
   "outputs": [],
   "source": [
    "# First, instantiation of the ridge regression.\n",
    "# I use RidgeCV to find the optimal alpha\n",
    "\n",
    "r_alphas = np.logspace(-20,-10,300)\n",
    "ridge_model = RidgeCV(alphas= r_alphas, scoring='r2', cv = 5)\n",
    "ridge_model = ridge_model.fit(X_train_sc, y_train)"
   ]
  },
  {
   "cell_type": "code",
   "execution_count": 82,
   "id": "7ea1abfd",
   "metadata": {
    "scrolled": false
   },
   "outputs": [
    {
     "data": {
      "text/plain": [
       "1.4696843861124473e-20"
      ]
     },
     "execution_count": 82,
     "metadata": {},
     "output_type": "execute_result"
    }
   ],
   "source": [
    "# The optimal value for alpha is:\n",
    "ridge_model.alpha_"
   ]
  },
  {
   "cell_type": "code",
   "execution_count": 83,
   "id": "755e264c",
   "metadata": {},
   "outputs": [
    {
     "data": {
      "text/plain": [
       "0.914127944534251"
      ]
     },
     "execution_count": 83,
     "metadata": {},
     "output_type": "execute_result"
    }
   ],
   "source": [
    "ridge_model.score(X_train_sc, y_train)"
   ]
  },
  {
   "cell_type": "code",
   "execution_count": 84,
   "id": "cdfc4b07",
   "metadata": {},
   "outputs": [
    {
     "data": {
      "text/plain": [
       "0.9007546754653942"
      ]
     },
     "execution_count": 84,
     "metadata": {},
     "output_type": "execute_result"
    }
   ],
   "source": [
    "cross_val_score(ridge_model, X_train_sc, y_train, cv = 5).mean()"
   ]
  },
  {
   "cell_type": "code",
   "execution_count": 85,
   "id": "b00dd08f",
   "metadata": {},
   "outputs": [
    {
     "data": {
      "text/plain": [
       "0.9053042213120023"
      ]
     },
     "execution_count": 85,
     "metadata": {},
     "output_type": "execute_result"
    }
   ],
   "source": [
    "ridge_model.score(X_test_sc, y_test)"
   ]
  },
  {
   "cell_type": "markdown",
   "id": "4e3b6161",
   "metadata": {},
   "source": [
    "### 6. Lasso Regression"
   ]
  },
  {
   "cell_type": "code",
   "execution_count": 86,
   "id": "b48bda5a",
   "metadata": {},
   "outputs": [],
   "source": [
    "# Second, I fit the lasso regression.\n",
    "# Again, I find the optimal alpha, here using LassoCV:\n",
    "\n",
    "l_alphas = np.logspace(-10,1,100)\n",
    "lasso_model = LassoCV(alphas= l_alphas, cv = 5)\n",
    "lasso_model = lasso_model.fit(X_train_sc, y_train)"
   ]
  },
  {
   "cell_type": "code",
   "execution_count": 87,
   "id": "c1a9ed84",
   "metadata": {
    "scrolled": true
   },
   "outputs": [
    {
     "data": {
      "text/plain": [
       "1.6681005372000558e-10"
      ]
     },
     "execution_count": 87,
     "metadata": {},
     "output_type": "execute_result"
    }
   ],
   "source": [
    "lasso_model.alpha_"
   ]
  },
  {
   "cell_type": "code",
   "execution_count": 88,
   "id": "c7a8acd7",
   "metadata": {
    "scrolled": false
   },
   "outputs": [
    {
     "data": {
      "text/plain": [
       "0.9141250338236377"
      ]
     },
     "execution_count": 88,
     "metadata": {},
     "output_type": "execute_result"
    }
   ],
   "source": [
    "lasso_model.score(X_train_sc, y_train)"
   ]
  },
  {
   "cell_type": "code",
   "execution_count": 89,
   "id": "8e751975",
   "metadata": {
    "scrolled": true
   },
   "outputs": [
    {
     "data": {
      "text/plain": [
       "0.900502794513671"
      ]
     },
     "execution_count": 89,
     "metadata": {},
     "output_type": "execute_result"
    }
   ],
   "source": [
    "cross_val_score(lasso_model, X_train_sc, y_train, cv= 5).mean()"
   ]
  },
  {
   "cell_type": "code",
   "execution_count": 90,
   "id": "c9fb7f88",
   "metadata": {
    "scrolled": true
   },
   "outputs": [
    {
     "data": {
      "text/plain": [
       "0.9052901614125627"
      ]
     },
     "execution_count": 90,
     "metadata": {},
     "output_type": "execute_result"
    }
   ],
   "source": [
    "lasso_model.score(X_test_sc, y_test)"
   ]
  },
  {
   "cell_type": "markdown",
   "id": "fafa4dd2",
   "metadata": {},
   "source": [
    "The regularization models did not perform better than the vanilla model. They were optimized using their respective cross-validation method, with each producing negative values for alpha."
   ]
  },
  {
   "cell_type": "markdown",
   "id": "91593d1e",
   "metadata": {},
   "source": [
    "### 7. K-Nearest Neighbour\n",
    "\n",
    "In this final model I implement a K-Nearest Neighbour Regressor model to attempt to predict 'saleprice'. Hyperparameters are tuned using GridSearchCV to find the optimal values."
   ]
  },
  {
   "cell_type": "code",
   "execution_count": 91,
   "id": "2f0e1e8c",
   "metadata": {},
   "outputs": [],
   "source": [
    "knn = KNeighborsRegressor()"
   ]
  },
  {
   "cell_type": "code",
   "execution_count": 92,
   "id": "f740b09a",
   "metadata": {},
   "outputs": [],
   "source": [
    "# Dictionary of hyperparameters.\n",
    "knn_params = {\n",
    "    'n_neighbors': range(1, 51, 2),\n",
    "    'metric': ['euclidean', 'manhattan']\n",
    "}"
   ]
  },
  {
   "cell_type": "code",
   "execution_count": 93,
   "id": "19e1d02d",
   "metadata": {},
   "outputs": [],
   "source": [
    "# Here, I find the optimal parameters for the knn model:\n",
    "\n",
    "knn_gridsearch = GridSearchCV(KNeighborsRegressor(),\n",
    "                              knn_params,\n",
    "                              cv = 5,\n",
    "                              verbose=1)"
   ]
  },
  {
   "cell_type": "code",
   "execution_count": 94,
   "id": "5f89216b",
   "metadata": {},
   "outputs": [
    {
     "name": "stdout",
     "output_type": "stream",
     "text": [
      "Fitting 5 folds for each of 50 candidates, totalling 250 fits\n"
     ]
    }
   ],
   "source": [
    "knn_gridsearch.fit(X_train_sc, y_train);"
   ]
  },
  {
   "cell_type": "code",
   "execution_count": 95,
   "id": "0fd0790c",
   "metadata": {},
   "outputs": [
    {
     "data": {
      "text/plain": [
       "0.8811977203751422"
      ]
     },
     "execution_count": 95,
     "metadata": {},
     "output_type": "execute_result"
    }
   ],
   "source": [
    "knn_gridsearch.best_score_"
   ]
  },
  {
   "cell_type": "code",
   "execution_count": 96,
   "id": "98317000",
   "metadata": {},
   "outputs": [
    {
     "data": {
      "text/plain": [
       "{'metric': 'manhattan', 'n_neighbors': 7}"
      ]
     },
     "execution_count": 96,
     "metadata": {},
     "output_type": "execute_result"
    }
   ],
   "source": [
    "# The optimal parameters for the knn model:\n",
    "\n",
    "knn_gridsearch.best_params_"
   ]
  },
  {
   "cell_type": "code",
   "execution_count": 97,
   "id": "2ce16cdd",
   "metadata": {},
   "outputs": [],
   "source": [
    "best_knn = knn_gridsearch.best_estimator_"
   ]
  },
  {
   "cell_type": "code",
   "execution_count": 98,
   "id": "947ec64d",
   "metadata": {},
   "outputs": [
    {
     "data": {
      "text/plain": [
       "0.9140465338391501"
      ]
     },
     "execution_count": 98,
     "metadata": {},
     "output_type": "execute_result"
    }
   ],
   "source": [
    "best_knn.score(X_train_sc, y_train)"
   ]
  },
  {
   "cell_type": "code",
   "execution_count": 99,
   "id": "6ff63726",
   "metadata": {},
   "outputs": [
    {
     "data": {
      "text/plain": [
       "0.840720394398917"
      ]
     },
     "execution_count": 99,
     "metadata": {},
     "output_type": "execute_result"
    }
   ],
   "source": [
    "cross_val_score(best_knn, X_test_sc, y_test).mean()"
   ]
  },
  {
   "cell_type": "code",
   "execution_count": 100,
   "id": "2b9e9d26",
   "metadata": {},
   "outputs": [
    {
     "data": {
      "text/plain": [
       "0.8742966880644756"
      ]
     },
     "execution_count": 100,
     "metadata": {},
     "output_type": "execute_result"
    }
   ],
   "source": [
    "best_knn.score(X_test_sc, y_test)"
   ]
  },
  {
   "cell_type": "markdown",
   "id": "189c3327",
   "metadata": {},
   "source": [
    "The K Nearest Neighbour model performed surprisingly well, although not up to the level of some of the more complex linear regression models the model's accuracy is nevertheless quite high at 0.91, although it is slightly overfit, as the test score is considerably lower at 0.87, and the cross-validation score is even lower, at 0.84."
   ]
  },
  {
   "cell_type": "markdown",
   "id": "aa6753c7",
   "metadata": {},
   "source": [
    "## Part 4\n",
    "## Interpretation and Conclusions"
   ]
  },
  {
   "cell_type": "markdown",
   "id": "88ae792d",
   "metadata": {},
   "source": [
    "The below table provides a summary of model performance:"
   ]
  },
  {
   "cell_type": "markdown",
   "id": "11233b5c",
   "metadata": {},
   "source": [
    "|Model Number #| Description | Parameters | CV score | Train score | Test score |\n",
    "| --- | --- | --- | --- | --- | --- |\n",
    "|1| **`Basic Multiple Regression - Numeric`** |na|0.82|0.83|0.81|\n",
    "|2| **`Log(y) Multiple Regression - Numeric`** |na|0.85|0.86|0.84|\n",
    "|3| **`Multiple Regression with Polynomial Features - Numeric`** |na|0.86|0.88|0.85|\n",
    "|4| **`Multiple Regression with Selected Interaction Terms - Numeric &  Non-Numeric Features`** |na|0.90|0.91|0.91|\n",
    "|5| **`Ridge Regression`** |α= 1.4696843861124473e-20|0.90|0.91|0.90|\n",
    "|6| **`Lasso Regression`** |α= 1.6681005372000558e-10|0.90|0.91|0.91|\n",
    "|7| **`K Nearest Neighbours`** |'manhattan'; k=7|0.84|0.91|0.87|"
   ]
  },
  {
   "cell_type": "markdown",
   "id": "7fa575d5",
   "metadata": {},
   "source": [
    "In terms of bias, the best score I reached was 0.91, which was the same after rounding for each of the latter four models. That said, they do not all perform equally well in terms of variance. This is most notable with the KNN model, for which the cross-val score is considerably lower than the training score. Variance looks very good for each of models 4, 5, and 6, however in the case of the latter two — that is, the regularized models (Ridge and Lasso) — the parameter values are negative, which is non-intuitive and calls the validity of these models into question. For that reason, my conclusion is that model #4 is the best predictor of house price, which includes both numeric and non-numeric features, several interactions terms, and which uses sale price in dollars (i.e., not log('saleprice') as the target feature.\n",
    "\n",
    "The difference in performance between models using y or log(y) raises some interesting points. The reader may recall from the EDA that there does appear to be some non-linearity in sale price with respect to sqf (variance in saleprice increases as saleprice and sqf get larger), and so this may explain why model #2 performs better than model #1. Using log(y) only hurts model performance after interactions terms are included, which may be because some of the non-linearity is captured by those polynomial features, meaning that taking the log(y) doesn't have the same impact.\n",
    "\n",
    "Another valuable takeaway comes from the calibration of model #4, through the trial-and-error assessment of different dummified categorical and ordinal features. In the EDA I discussed how the attribute 'neighborhood' would likely capture much of the information on density and urbanity/rurality that other attributes would, and conjectured that 'neighborhood' could serve as a proxy for many other variables that could be excluded. In practice, though, 'neighborhood' tended to hurt model performance, and my final model #4 showed significant improved only after I removed it, and added in several other features that I thought might express urbanity/rurality. In part, this may simply be because there were too many unique neighbourhoods in Ames, and so including a dummy for each may have pushed the model up against its complexity limit (that is, the number of features is constrained by sample size), which meant that too many other important variables had to be excluded in order to make room. Another possibility is simply that neighbourhood isn't, in the end, all that good an indicator of value. This can happen when there is significant diversity within neighbourhoods, and not only between them. In such cases, the fact that a house is sold in some neighbourhood may not tell very much at all about the home, because there are a wide range of income levels within the neighbourhood. In some cases, municipal boundaries can even contain starkly contrasting urban and rural areas. \n",
    "\n",
    "While neighbourhood ended up hurting my models in this particular project, it doesn't mean that it will never be useful. Again, the sample size proved a constraint here, as some rejected versions of model 4 had even better performance than my final versions, but used too many features to be able to execute k-fold cross-validation. My recommendation for future study would be to collect a larger dataset, if only to allow for more features to be used in modelling sale price. It remains possible that neighbourhood could serve as a valuable attribute in a regression with perhaps a hundred features or more."
   ]
  }
 ],
 "metadata": {
  "kernelspec": {
   "display_name": "Python 3 (ipykernel)",
   "language": "python",
   "name": "python3"
  },
  "language_info": {
   "codemirror_mode": {
    "name": "ipython",
    "version": 3
   },
   "file_extension": ".py",
   "mimetype": "text/x-python",
   "name": "python",
   "nbconvert_exporter": "python",
   "pygments_lexer": "ipython3",
   "version": "3.9.7"
  }
 },
 "nbformat": 4,
 "nbformat_minor": 5
}
